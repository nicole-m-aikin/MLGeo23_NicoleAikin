{
 "cells": [
  {
   "cell_type": "markdown",
   "metadata": {},
   "source": [
    "# Homework 3\n",
    "\n",
    "In this homework we will practice basic analysis such as feature extraction and data transforms (Fourier, wavelet), and feature extraction.\n",
    "\n",
    "In the 2023 course offering, pick either 1. or 2., and then 3.\n",
    "\n",
    "**1. Ice-shelf seismograms** (10 points)\n",
    "\n",
    "Time-domain filtering, 1D Fourier transform.\n",
    "\n",
    "**2. TEC from the Hunga-Tunga explosion** (10 points)\n",
    "\n",
    "Time-domain filtering, 1D wavelet transform.\n",
    "\n",
    "**3. 2D Crustal model** (10 points)\n",
    "\n",
    "practice reading netcdf, making maps and exploring 2D spectral content.\n",
    "\n"
   ]
  },
  {
   "cell_type": "markdown",
   "metadata": {},
   "source": [
    "## 1) Time Frequency analysis of iceshelf vibrations \n",
    "\n",
    "We will explore the spectral content of the vibrations felt on iceshelves. We first download seismic data, then filter it at different frequency bandwidths, then plot the spectrogram and comment on the data.\n",
    "\n",
    "The seismic data is handled by the Obspy package. Review the obspy tutorial that Ariane.\n",
    "We will download the data presented in: Aster, R.C., Lipovsky, B.P., Cole, H.M., Bromirski, P.D., Gerstoft, P., Nyblade, A., Wiens, D.A. and Stephen, R., 2021. Swell‐Triggered Seismicity at the Near‐Front Damage Zone of the Ross Ice Shelf. Seismological Research Letters. https://doi.org/10.1785/0220200478\n",
    "\n",
    "__Tips__:\n",
    "1. Check out the SciPy filtering help here: https://scipy-cookbook.readthedocs.io/items/ButterworthBandpass.html. Obspy has built in functions as well, but for the sake of practicing, explore the scipy filtering functions.\n",
    "\n",
    "2. The usual steps to handling seismic data are: data download (``get_waveforms``) & removing the instrumental response (``remove_response``).\n",
    "\n",
    "\n",
    "\n",
    "\n",
    "**a. Import the relevant Obspy python modules (1 point).**"
   ]
  },
  {
   "cell_type": "code",
   "execution_count": 6,
   "metadata": {},
   "outputs": [
    {
     "name": "stdout",
     "output_type": "stream",
     "text": [
      "Requirement already satisfied: obspy in c:\\users\\nmaik\\anaconda\\envs\\mlgeo\\lib\\site-packages (1.4.2)\n",
      "Requirement already satisfied: numpy>=1.20 in c:\\users\\nmaik\\anaconda\\envs\\mlgeo\\lib\\site-packages (from obspy) (1.26.1)\n",
      "Requirement already satisfied: scipy>=1.7 in c:\\users\\nmaik\\anaconda\\envs\\mlgeo\\lib\\site-packages (from obspy) (1.11.4)\n",
      "Requirement already satisfied: matplotlib>=3.3 in c:\\users\\nmaik\\anaconda\\envs\\mlgeo\\lib\\site-packages (from obspy) (3.8.1)\n",
      "Requirement already satisfied: lxml in c:\\users\\nmaik\\anaconda\\envs\\mlgeo\\lib\\site-packages (from obspy) (6.0.1)\n",
      "Requirement already satisfied: setuptools in c:\\users\\nmaik\\anaconda\\envs\\mlgeo\\lib\\site-packages (from obspy) (68.2.2)\n",
      "Requirement already satisfied: sqlalchemy<2 in c:\\users\\nmaik\\anaconda\\envs\\mlgeo\\lib\\site-packages (from obspy) (1.4.54)\n",
      "Requirement already satisfied: decorator in c:\\users\\nmaik\\appdata\\roaming\\python\\python312\\site-packages (from obspy) (5.1.1)\n",
      "Requirement already satisfied: requests in c:\\users\\nmaik\\anaconda\\envs\\mlgeo\\lib\\site-packages (from obspy) (2.32.3)\n",
      "Requirement already satisfied: contourpy>=1.0.1 in c:\\users\\nmaik\\anaconda\\envs\\mlgeo\\lib\\site-packages (from matplotlib>=3.3->obspy) (1.2.0)\n",
      "Requirement already satisfied: cycler>=0.10 in c:\\users\\nmaik\\anaconda\\envs\\mlgeo\\lib\\site-packages (from matplotlib>=3.3->obspy) (0.12.1)\n",
      "Requirement already satisfied: fonttools>=4.22.0 in c:\\users\\nmaik\\anaconda\\envs\\mlgeo\\lib\\site-packages (from matplotlib>=3.3->obspy) (4.44.0)\n",
      "Requirement already satisfied: kiwisolver>=1.3.1 in c:\\users\\nmaik\\anaconda\\envs\\mlgeo\\lib\\site-packages (from matplotlib>=3.3->obspy) (1.4.5)\n",
      "Requirement already satisfied: packaging>=20.0 in c:\\users\\nmaik\\appdata\\roaming\\python\\python312\\site-packages (from matplotlib>=3.3->obspy) (24.1)\n",
      "Requirement already satisfied: pillow>=8 in c:\\users\\nmaik\\anaconda\\envs\\mlgeo\\lib\\site-packages (from matplotlib>=3.3->obspy) (11.1.0)\n",
      "Requirement already satisfied: pyparsing>=2.3.1 in c:\\users\\nmaik\\anaconda\\envs\\mlgeo\\lib\\site-packages (from matplotlib>=3.3->obspy) (3.1.1)\n",
      "Requirement already satisfied: python-dateutil>=2.7 in c:\\users\\nmaik\\appdata\\roaming\\python\\python312\\site-packages (from matplotlib>=3.3->obspy) (2.9.0.post0)\n",
      "Requirement already satisfied: greenlet!=0.4.17 in c:\\users\\nmaik\\anaconda\\envs\\mlgeo\\lib\\site-packages (from sqlalchemy<2->obspy) (3.2.4)\n",
      "Requirement already satisfied: charset-normalizer<4,>=2 in c:\\users\\nmaik\\anaconda\\envs\\mlgeo\\lib\\site-packages (from requests->obspy) (3.4.1)\n",
      "Requirement already satisfied: idna<4,>=2.5 in c:\\users\\nmaik\\anaconda\\envs\\mlgeo\\lib\\site-packages (from requests->obspy) (3.10)\n",
      "Requirement already satisfied: urllib3<3,>=1.21.1 in c:\\users\\nmaik\\anaconda\\envs\\mlgeo\\lib\\site-packages (from requests->obspy) (2.3.0)\n",
      "Requirement already satisfied: certifi>=2017.4.17 in c:\\users\\nmaik\\anaconda\\envs\\mlgeo\\lib\\site-packages (from requests->obspy) (2024.8.30)\n",
      "Requirement already satisfied: six>=1.5 in c:\\users\\nmaik\\appdata\\roaming\\python\\python312\\site-packages (from python-dateutil>=2.7->matplotlib>=3.3->obspy) (1.16.0)\n"
     ]
    }
   ],
   "source": [
    "# Import the Obspy modules that will be useful to download seismic data\n",
    "!pip install obspy\n",
    "from obspy import read, UTCDateTime, Stream\n",
    "from obspy.clients.fdsn import Client\n"
   ]
  },
  {
   "cell_type": "markdown",
   "metadata": {},
   "source": [
    "**b. Data download (1 point)**\n",
    "\n",
    "We will now download the data from station \"DR01\" from seismic network \"XH\", channel \"LHN\" from 1/1/2015 until 3/31/2015. The client will be the \"IRIS\" data center. Obspy functions take on UTCDateTime formatted obspy datetime object, be sure to call or import that specific function. (1 point)"
   ]
  },
  {
   "cell_type": "code",
   "execution_count": 8,
   "metadata": {},
   "outputs": [],
   "source": [
    "# answer below\n",
    "client = Client(\"IRIS\")\n",
    "Tstart = UTCDateTime(\"2015-01-01T00:00:00\")\n",
    "Tend = UTCDateTime(\"2015-03-31T23:59:59\")\n",
    "st = client.get_waveforms(network=\"XH\", station=\"DR01\", location=\"--\", channel=\"LHN\", starttime=Tstart, endtime=Tend)\n",
    "# st.remove_response()  # <-- REMOVE or comment out this line!\n",
    "tr = st[0]\n"
   ]
  },
  {
   "cell_type": "code",
   "execution_count": 10,
   "metadata": {},
   "outputs": [
    {
     "name": "stdout",
     "output_type": "stream",
     "text": [
      "Number of days downloaded:\n",
      "89\n"
     ]
    }
   ],
   "source": [
    "# how many days did we download?\n",
    "dt= Tend-Tstart # in seconds\n",
    "Ndays = int(dt/86400) # in days\n",
    "\n",
    "print(\"Number of days downloaded:\")\n",
    "print(Ndays)"
   ]
  },
  {
   "cell_type": "markdown",
   "metadata": {},
   "source": [
    "**c. Time series filtering (2 points)**\n",
    "\n",
    "Now we will filter the trace to explore its frequency content. We will apply 3 filters:\n",
    "1. a ``lowpass`` filter to look at seismic frequencies below 0.01Hz, or 100 s period\n",
    "\n",
    "2. a ``bandpass`` filter to look at seismic frequencies between 0.01Hz-0.1 Hz (10-100s)\n",
    "\n",
    "3. a ``highpass`` filter to look at seismic frequencies higher than 0.1 Hz (10s) and until the time series Nyquist frequency (0.5Hz since the data is sampled at 1 Hz)."
   ]
  },
  {
   "cell_type": "code",
   "execution_count": 11,
   "metadata": {},
   "outputs": [],
   "source": [
    "# answer below\n",
    "from scipy.signal import butter, buttord, sosfiltfilt, freqs\n",
    "\n",
    "fs = tr.stats.sampling_rate\n",
    "data = tr.data\n",
    "\n",
    "# Lowpass filter below 0.01 Hz\n",
    "sos_low = butter(4, 0.01, btype='low', fs=fs, output='sos')\n",
    "data_low = sosfiltfilt(sos_low, data)\n",
    "\n",
    "# Bandpass filter 0.01-0.1 Hz\n",
    "sos_band = butter(4, [0.01, 0.1], btype='band', fs=fs, output='sos')\n",
    "data_band = sosfiltfilt(sos_band, data)\n",
    "\n",
    "# Highpass filter above 0.1 Hz\n",
    "sos_high = butter(4, 0.1, btype='high', fs=fs, output='sos')\n",
    "data_high = sosfiltfilt(sos_high, data)\n"
   ]
  },
  {
   "cell_type": "markdown",
   "metadata": {},
   "source": [
    "**c. Fourier transform (3 points)**\n",
    "\n",
    "\n",
    "Perform and the Fourier amplitude spectrum of the seismogram. Don't forget to label the figure properly! Use the Fourier frequency vector for x-axis. Use the tutorials for inspirtion."
   ]
  },
  {
   "cell_type": "code",
   "execution_count": 12,
   "metadata": {},
   "outputs": [
    {
     "data": {
      "image/png": "[encoded data removed]",
      "text/plain": [
       "<Figure size 640x480 with 1 Axes>"
      ]
     },
     "metadata": {},
     "output_type": "display_data"
    }
   ],
   "source": [
    "# import FFT modules\n",
    "import numpy as np\n",
    "from scipy.fft import fft, fftfreq\n",
    "\n",
    "n = len(data)\n",
    "dt = tr.stats.delta\n",
    "freqs = fftfreq(n, dt)\n",
    "fft_vals = np.abs(fft(data))\n",
    "\n",
    "import matplotlib.pyplot as plt\n",
    "plt.figure()\n",
    "plt.plot(freqs[:n//2], fft_vals[:n//2])\n",
    "plt.xlabel(\"Frequency (Hz)\")\n",
    "plt.ylabel(\"Amplitude\")\n",
    "plt.title(\"Fourier Amplitude Spectrum\")\n",
    "plt.show()"
   ]
  },
  {
   "cell_type": "markdown",
   "metadata": {},
   "source": [
    "Comment on the spectral content of the seismograms. How does the relative contribution of the low, intermediate, and high frequency signal compares with the relative amplitude observed in the bandpass filtered time series?"
   ]
  },
  {
   "cell_type": "markdown",
   "metadata": {},
   "source": [
    "**d. Synthetic noise (3 points)**\n",
    "\n",
    "We have now a good idea of what the amplitude of seismic waves are at this station. Now create a noise signal using the Fourier amplitude spectrum of the seismic signal, and with a random phase. You can use the notes from our first Numpy example (2.7_data_transforms.ipynb)"
   ]
  },
  {
   "cell_type": "code",
   "execution_count": 13,
   "metadata": {},
   "outputs": [],
   "source": [
    "\n",
    "# answer below\n",
    "from numpy import random\n",
    "from scipy.fftpack import ifft, ifftshift\n",
    "\n",
    "amp = np.abs(fft(data))\n",
    "phase = np.exp(1j * 2 * np.pi * random.rand(len(amp)))\n",
    "synth_noise = np.real(ifft(amp * phase))\n"
   ]
  },
  {
   "cell_type": "markdown",
   "metadata": {},
   "source": [
    "**e. !Sanity check! (1 point)**\n",
    "\n",
    "Check that the Fourier amplitude spectrum of the noise is that of the original window. Overlay them on a plot "
   ]
  },
  {
   "cell_type": "code",
   "execution_count": 14,
   "metadata": {},
   "outputs": [
    {
     "data": {
      "image/png": "[encoded data removed]",
      "text/plain": [
       "<Figure size 640x480 with 1 Axes>"
      ]
     },
     "metadata": {},
     "output_type": "display_data"
    }
   ],
   "source": [
    "# answer below\n",
    "fft_noise = np.abs(fft(synth_noise))\n",
    "plt.figure()\n",
    "plt.plot(freqs[:n//2], fft_vals[:n//2], label=\"Original\")\n",
    "plt.plot(freqs[:n//2], fft_noise[:n//2], label=\"Noise\", alpha=0.7)\n",
    "plt.xlabel(\"Frequency (Hz)\")\n",
    "plt.ylabel(\"Amplitude\")\n",
    "plt.legend()\n",
    "plt.title(\"Amplitude Spectrum: Original vs Noise\")\n",
    "plt.show()"
   ]
  },
  {
   "cell_type": "markdown",
   "metadata": {},
   "source": [
    "**f. Short Time Fourier Transform (3 points)**\n",
    "\n",
    "STFT are important transforms that are used in data science of time series. They are mainly used for denoising and for feature extraction.\n",
    "Spectrograms are STFT with window overlap."
   ]
  },
  {
   "cell_type": "code",
   "execution_count": 15,
   "metadata": {},
   "outputs": [
    {
     "data": {
      "image/png": "[encoded data removed]",
      "text/plain": [
       "<Figure size 640x480 with 1 Axes>"
      ]
     },
     "metadata": {},
     "output_type": "display_data"
    }
   ],
   "source": [
    "# answer below\n",
    "from scipy.signal import stft\n",
    "\n",
    "f, t, Zxx = stft(data, fs=fs, nperseg=1024)\n",
    "plt.pcolormesh(t, f, np.abs(Zxx), shading='gouraud')\n",
    "plt.ylabel('Frequency [Hz]')\n",
    "plt.xlabel('Time [sec]')\n",
    "plt.title('STFT Spectrogram')\n",
    "plt.show()"
   ]
  },
  {
   "cell_type": "markdown",
   "metadata": {},
   "source": [
    "Now you have created a 2D image of a time series! Many seismologists use that as input to convolutional neural networks.\n",
    "\n"
   ]
  },
  {
   "cell_type": "markdown",
   "metadata": {},
   "source": [
    "## 2. Time Series analysis of Hunga- Tonga\n",
    " Ghent and Crowell, 2022: TF representation of the TEC (https://agupubs.onlinelibrary.wiley.com/doi/full/10.1029/2022GL100145). The Total Electron Content (TEC) is the total number of electrons present along a path between a radio transmitter and receiver. TEC is measured in electrons per square meter. By convention, 1 TEC Unit TECU = 10^16 electrons/m². Vertical TEC values in Earth’s ionosphere can range from a few to several hundred TECU.\n",
    "\n",
    " On 15 January 2022, Tonga's Hunga Tonga-Hunga Ha'apai (HTHH) volcano violently erupted, generating a tsunami that killed three people. Acoustic-gravity waves propagated by the eruption and tsunami caused global complex ionospheric disturbances. In this paper, we study the nature of these perturbations from Global Navigation Satellite System observables over the southwestern Pacific. After processing data from 818 ground stations, we detect supersonic acoustic waves, Lamb waves, and tsunamis, with filtered magnitudes between 1 and 7 Total Electron Content units.\n",
    "\n",
    "Apply the Fourier and Wavelet transforms to the TEC time series observed a a GPS section..\n"
   ]
  },
  {
   "cell_type": "markdown",
   "metadata": {},
   "source": [
    "### a. Read the data (1 point)\n",
    "\n",
    "Read the CSV file file ``./TEC/ioncorr_samo_015_2022_tonga.csv``, print the keys of the data frame. THe key ``time`` is a timestamp of seconds since epoch time (1970/01/01). The data shown in the article is in the Series ``variometric_derived_TEC``. **samo** is the name of the GPS receiver. There are up to 32 satellite data saved in the CSV file.\n",
    "\n",
    "Plot the first 2 hours of the time series"
   ]
  },
  {
   "cell_type": "code",
   "execution_count": 20,
   "metadata": {},
   "outputs": [
    {
     "name": "stdout",
     "output_type": "stream",
     "text": [
      "File not found: ./TEC/ioncorr_samo_015_2022_tonga.csv\n",
      "Please check that the file exists at the specified path. If not, download or move it there.\n"
     ]
    }
   ],
   "source": [
    "# answer below\n",
    "import matplotlib.dates as mdates\n",
    "import numpy as np\n",
    "import pandas as pd\n",
    "import os\n",
    "\n",
    "csv_path = \"./TEC/ioncorr_samo_015_2022_tonga.csv\"\n",
    "if not os.path.exists(csv_path):\n",
    "    print(f\"File not found: {csv_path}\")\n",
    "    print(\"Please check that the file exists at the specified path. If not, download or move it there.\")\n",
    "else:\n",
    "    df = pd.read_csv(csv_path)\n",
    "    df['datetime'] = pd.to_datetime(df['time'], unit='s')\n",
    "    sat_cols = [col for col in df.columns if 'variometric_derived_TEC_filtered' in col]\n",
    "    plt.figure(figsize=(10, 6))\n",
    "    for col in sat_cols:\n",
    "        plt.plot(df['datetime'], df[col], label=col)\n",
    "    plt.xlabel(\"Time\")\n",
    "    plt.ylabel(\"Filtered vTEC (TECU)\")\n",
    "    plt.title(\"Filtered vTEC for each satellite\")\n",
    "    plt.legend()\n",
    "    plt.show()"
   ]
  },
  {
   "cell_type": "markdown",
   "metadata": {},
   "source": [
    "## b. Get station info (0.5 point)\n",
    "Get the station name by splitting the string of the file name and getting the charcater after \"ioncorr\". You can use the python function ``split()``."
   ]
  },
  {
   "cell_type": "code",
   "execution_count": 21,
   "metadata": {},
   "outputs": [
    {
     "name": "stdout",
     "output_type": "stream",
     "text": [
      "Station name: samo\n"
     ]
    }
   ],
   "source": [
    "# answer below\n",
    "filename = \"./TEC/ioncorr_samo_015_2022_tonga.csv\"\n",
    "station = filename.split(\"_\")[1]\n",
    "print(\"Station name:\", station)"
   ]
  },
  {
   "cell_type": "markdown",
   "metadata": {},
   "source": [
    "## c. Plot all data (2 points)\n",
    "Make a plot of all vTEC filtered (``variometric_derived_TEC_filtered``) for each satellite. Align the data with the satellite number.\n",
    "\n",
    "Use the ``plot_date`` function from matplotlib. Convert the Series ``time`` from a ``timestamp`` to an Numpy array of dtpe ``datetime64[s]`` (time stamps are in seconds, so we need to use ``[s]``). Plot the data for each sattelite observations."
   ]
  },
  {
   "cell_type": "code",
   "execution_count": 22,
   "metadata": {},
   "outputs": [
    {
     "name": "stdout",
     "output_type": "stream",
     "text": [
      "File not found: ./TEC/ioncorr_samo_015_2022_tonga.csv\n",
      "Please check that the file exists at the specified path. If not, download or move it there.\n"
     ]
    }
   ],
   "source": [
    "# answer below\n",
    "import matplotlib.dates as mdates\n",
    "import numpy as np\n",
    "import pandas as pd\n",
    "import os\n",
    "\n",
    "csv_path = \"./TEC/ioncorr_samo_015_2022_tonga.csv\"\n",
    "if not os.path.exists(csv_path):\n",
    "    print(f\"File not found: {csv_path}\")\n",
    "    print(\"Please check that the file exists at the specified path. If not, download or move it there.\")\n",
    "else:\n",
    "    df = pd.read_csv(csv_path)\n",
    "    df['datetime'] = pd.to_datetime(df['time'], unit='s')\n",
    "    sat_cols = [col for col in df.columns if 'variometric_derived_TEC_filtered' in col]\n",
    "    plt.figure(figsize=(10, 6))\n",
    "    for col in sat_cols:\n",
    "        plt.plot(df['datetime'], df[col], label=col)\n",
    "    plt.xlabel(\"Time\")\n",
    "    plt.ylabel(\"Filtered vTEC (TECU)\")\n",
    "    plt.title(\"Filtered vTEC for each satellite\")\n",
    "    plt.legend()\n",
    "    plt.show()"
   ]
  },
  {
   "cell_type": "markdown",
   "metadata": {},
   "source": [
    "You can now select one of the satellite observations that contain a full vTEC signal."
   ]
  },
  {
   "cell_type": "markdown",
   "metadata": {},
   "source": [
    "### d. Perform the wavelet transform (3 points)\n",
    "\n",
    "Just like in the article, perform the wavelet transform using a Morlet transform. Select the time series of interest and plot the time series. What can you tell about the time-frequency characteristic of these disturbances?"
   ]
  },
  {
   "cell_type": "code",
   "execution_count": 23,
   "metadata": {},
   "outputs": [
    {
     "ename": "NameError",
     "evalue": "name 'sat_cols' is not defined",
     "output_type": "error",
     "traceback": [
      "\u001b[1;31m---------------------------------------------------------------------------\u001b[0m",
      "\u001b[1;31mNameError\u001b[0m                                 Traceback (most recent call last)",
      "Cell \u001b[1;32mIn[23], line 4\u001b[0m\n\u001b[0;32m      1\u001b[0m \u001b[38;5;66;03m# answer below\u001b[39;00m\n\u001b[0;32m      2\u001b[0m \u001b[38;5;28;01mimport\u001b[39;00m \u001b[38;5;21;01mscipy\u001b[39;00m\u001b[38;5;21;01m.\u001b[39;00m\u001b[38;5;21;01msignal\u001b[39;00m \u001b[38;5;28;01mas\u001b[39;00m \u001b[38;5;21;01msignal\u001b[39;00m\n\u001b[1;32m----> 4\u001b[0m sat_col \u001b[38;5;241m=\u001b[39m \u001b[43msat_cols\u001b[49m[\u001b[38;5;241m0\u001b[39m]  \u001b[38;5;66;03m# pick one satellite\u001b[39;00m\n\u001b[0;32m      5\u001b[0m tec \u001b[38;5;241m=\u001b[39m df[sat_col]\u001b[38;5;241m.\u001b[39mvalues\n\u001b[0;32m      6\u001b[0m plt\u001b[38;5;241m.\u001b[39mplot(df[\u001b[38;5;124m'\u001b[39m\u001b[38;5;124mdatetime\u001b[39m\u001b[38;5;124m'\u001b[39m], tec)\n",
      "\u001b[1;31mNameError\u001b[0m: name 'sat_cols' is not defined"
     ]
    }
   ],
   "source": [
    "# answer below\n",
    "import scipy.signal as signal\n",
    "\n",
    "sat_col = sat_cols[0]  # pick one satellite\n",
    "tec = df[sat_col].values\n",
    "plt.plot(df['datetime'], tec)\n",
    "plt.xlabel(\"Time\")\n",
    "plt.ylabel(\"Filtered vTEC (TECU)\")\n",
    "plt.title(\"TEC for one satellite\")\n",
    "plt.show()"
   ]
  },
  {
   "cell_type": "markdown",
   "metadata": {},
   "source": [
    "Calculate the sampling frequency by taking the time difference between two samples."
   ]
  },
  {
   "cell_type": "code",
   "execution_count": null,
   "metadata": {},
   "outputs": [],
   "source": [
    "#answer below\n",
    "dt = (df['datetime'][1] - df['datetime'][0]).total_seconds()\n",
    "fs = 1.0 / dt\n",
    "print(\"Sampling frequency (Hz):\", fs)"
   ]
  },
  {
   "cell_type": "markdown",
   "metadata": {},
   "source": [
    "Perform the wavelet transform. You may choose a range of wavelet scales from 1 to 50 (write this as an array of integer), and call the ``cwt`` functions using the Morlet wavelet and taking the array of scales as an input argument. Plot it with an x-axis in time (hours) and y-axis in periods."
   ]
  },
  {
   "cell_type": "code",
   "execution_count": null,
   "metadata": {},
   "outputs": [],
   "source": [
    "import scipy.signal as signal\n",
    "# use the number of scales\n",
    "w = np.arange(1, 50)\n",
    "\n",
    "# answer below\n",
    "coef, freqs = signal.cwt(tec, signal.morlet2, w, w=6), w\n",
    "plt.imshow(np.abs(coef), aspect='auto', extent=[0, len(tec)*dt/3600, w[-1], w[0]])\n",
    "plt.xlabel(\"Time (hours)\")\n",
    "plt.ylabel(\"Scale\")\n",
    "plt.title(\"Wavelet Transform (Morlet)\")\n",
    "plt.colorbar(label=\"Amplitude\")\n",
    "plt.show()"
   ]
  },
  {
   "cell_type": "markdown",
   "metadata": {},
   "source": [
    "## e. Interpretation (0.5 points)\n",
    "Can you describe the spectral features as a function of hours since the beginning of the time series? What periods dominate when?"
   ]
  },
  {
   "cell_type": "markdown",
   "metadata": {},
   "source": [
    "(answer below)"
   ]
  },
  {
   "cell_type": "markdown",
   "metadata": {},
   "source": [
    "The authors interpret the first packet as coming from a Lamb wave (a powerful gravity-acoustic wave that travel in the lower atmosphere), the second as coming from the tsunami disturbance."
   ]
  },
  {
   "cell_type": "markdown",
   "metadata": {},
   "source": [
    "## 3) 2D Spectral analysis of geological models (10 points)\n",
    "\n",
    "In this exercise we will correlate water table level with surface elevation. You may download the data just like in the class. The file names are ``NCM_GeologicFrameworksGrids.nc``, ``NCM_SpatialGrid.nc``, and ``NCM_AuxData.nc``.\n",
    "\n",
    "We first download the data from our Dropbox folder\n"
   ]
  },
  {
   "cell_type": "code",
   "execution_count": null,
   "metadata": {},
   "outputs": [],
   "source": [
    "import wget\n",
    "file1 = wget.download(\"https://www.dropbox.com/s/wdb25puxh3u07dj/NCM_GeologicFrameworkGrids.nc?dl=1\") #\"./data/NCM_GeologicFrameworkGrids.nc\"\n",
    "# Download the coordinate grids\n",
    "file2 = wget.download(\"https://www.dropbox.com/s/i6tv3ug15oe6yhe/NCM_SpatialGrid.nc?dl=1\") #\"./data/NCM_GeologicFrameworkGrids.nc\"\n",
    "# Download the coordinate grids\n",
    "file3 = wget.download(\"https://www.dropbox.com/s/92m20pehfu7rxp2/NCM_AuxData.nc?dl=1\") #\"./data/NCM_AuxData.nc\"\n"
   ]
  },
  {
   "cell_type": "markdown",
   "metadata": {},
   "source": [
    "\n",
    "In the following we will prepare our data. Read the DataSets using the python NetCDF4 library."
   ]
  },
  {
   "cell_type": "code",
   "execution_count": null,
   "metadata": {},
   "outputs": [],
   "source": [
    "# ansert below\n",
    "import netCDF4 as nc\n",
    "ds1 = nc.Dataset(file1)\n",
    "ds2 = nc.Dataset(file2)\n",
    "ds3 = nc.Dataset(file3)\n"
   ]
  },
  {
   "cell_type": "markdown",
   "metadata": {},
   "source": [
    "**a. Plot (2 points)**\n",
    "\n",
    "Plot the data ``WT`` and ``elevation``, which are data sets from the NC files. Use the matplotlib function``contourf``, and the variables for lat long ``x`` and ``y`` . You can use the argument ``levels`` to the contourf funxtion to split the color map into discrete contour levels, and the transparency argument ``alpha`` to be less than 1."
   ]
  },
  {
   "cell_type": "code",
   "execution_count": null,
   "metadata": {},
   "outputs": [],
   "source": [
    "# answer below\n",
    "plt.figure()\n",
    "plt.contourf(x, y, WT, levels=20, alpha=0.7)\n",
    "plt.colorbar(label='Water Table')\n",
    "plt.title('Water Table')\n",
    "plt.xlabel('x')\n",
    "plt.ylabel('y')\n",
    "plt.show()\n",
    "\n",
    "plt.figure()\n",
    "plt.contourf(x, y, elevation, levels=20, alpha=0.7)\n",
    "plt.colorbar(label='Elevation')\n",
    "plt.title('Elevation')\n",
    "plt.xlabel('x')\n",
    "plt.ylabel('y')\n",
    "plt.show()"
   ]
  },
  {
   "cell_type": "code",
   "execution_count": null,
   "metadata": {},
   "outputs": [],
   "source": [
    "# plot below\n",
    "plt.figure()\n",
    "plt.contourf(x, y, WT, levels=20, alpha=0.7)\n",
    "plt.colorbar(label='Water Table')\n",
    "plt.title('Water Table')\n",
    "plt.xlabel('x')\n",
    "plt.ylabel('y')\n",
    "plt.show()"
   ]
  },
  {
   "cell_type": "markdown",
   "metadata": {},
   "source": [
    "**b. Perform and plot the 2D Fourier transforms (4 points)**"
   ]
  },
  {
   "cell_type": "code",
   "execution_count": null,
   "metadata": {},
   "outputs": [],
   "source": [
    "# answer below\n",
    "from scipy.fftpack import fft2, fftfreq, fftshift\n",
    "import matplotlib.cm as cm\n",
    "\n",
    "WT_fft = fftshift(fft2(WT))\n",
    "elev_fft = fftshift(fft2(elevation))\n",
    "\n",
    "plt.figure()\n",
    "plt.imshow(np.log(np.abs(WT_fft)), cmap=cm.viridis)\n",
    "plt.title(\"2D FFT of Water Table\")\n",
    "plt.colorbar()\n",
    "plt.show()\n",
    "\n",
    "plt.figure()\n",
    "plt.imshow(np.log(np.abs(elev_fft)), cmap=cm.viridis)\n",
    "plt.title(\"2D FFT of Elevation\")\n",
    "plt.colorbar()\n",
    "plt.show()"
   ]
  },
  {
   "cell_type": "markdown",
   "metadata": {},
   "source": [
    "**c. Interpretation (1 point)**\n",
    "\n",
    "Comment on the wavelengths that dominate the DEM and the water table wavelengths"
   ]
  },
  {
   "cell_type": "markdown",
   "metadata": {},
   "source": [
    "(answer below)"
   ]
  },
  {
   "cell_type": "markdown",
   "metadata": {},
   "source": [
    "**d. 2D filtering (3 points)**\n",
    "\n",
    "Find a way to low pass filter the image (spectral filtering or convolution)"
   ]
  },
  {
   "cell_type": "code",
   "execution_count": null,
   "metadata": {},
   "outputs": [],
   "source": [
    "# solution\n",
    "from scipy.ndimage import gaussian_filter\n",
    "\n",
    "WT_lowpass = gaussian_filter(WT, sigma=5)\n",
    "plt.figure()\n",
    "plt.contourf(x, y, WT_lowpass, levels=20, alpha=0.7)\n",
    "plt.colorbar(label='Lowpass Water Table')\n",
    "plt.title('Lowpass Filtered Water Table')\n",
    "plt.xlabel('x')\n",
    "plt.ylabel('y')\n",
    "plt.show()"
   ]
  },
  {
   "cell_type": "markdown",
   "metadata": {},
   "source": [
    "Now we will filter or compress by taking the largest Fourier coefficients of the image."
   ]
  },
  {
   "cell_type": "code",
   "execution_count": null,
   "metadata": {},
   "outputs": [],
   "source": [
    "# Sort the Fourier coefficients\n",
    "flat = np.abs(WT_fft).flatten()\n",
    "idx = np.argsort(flat)[::-1]"
   ]
  },
  {
   "cell_type": "markdown",
   "metadata": {},
   "source": [
    "Plot and reconstruct the image of the water table map with 1% until 10% of the data (like in class)"
   ]
  },
  {
   "cell_type": "code",
   "execution_count": null,
   "metadata": {},
   "outputs": [],
   "source": [
    "\n",
    "#snwer below\n",
    "percentages = np.arange(0.01, 0.11, 0.01)\n",
    "n_total = WT_fft.size\n",
    "\n",
    "for p in percentages:\n",
    "    WT_fft_compressed = np.zeros_like(WT_fft)\n",
    "    n_keep = int(p * n_total)\n",
    "    inds = idx[:n_keep]\n",
    "    WT_fft_compressed.flat[inds] = WT_fft.flat[inds]\n",
    "    WT_recon = np.real(np.fft.ifft2(np.fft.ifftshift(WT_fft_compressed)))\n",
    "    plt.figure()\n",
    "    plt.imshow(WT_recon, cmap='viridis')\n",
    "    plt.title(f\"Reconstructed WT with {int(p*100)}% coefficients\")\n",
    "    plt.colorbar()\n",
    "    plt.show()\n",
    "    time.sleep(0.5)\n",
    "    plt.close()"
   ]
  },
  {
   "cell_type": "markdown",
   "metadata": {},
   "source": [
    "Now we will compare the original 2D data set with the Fourier compressed data\n"
   ]
  },
  {
   "cell_type": "code",
   "execution_count": null,
   "metadata": {},
   "outputs": [],
   "source": [
    "# answer below\n",
    "WT_fft_10 = np.zeros_like(WT_fft)\n",
    "WT_fft_10.flat[idx[:int(0.1 * n_total)]] = WT_fft.flat[idx[:int(0.1 * n_total)]]\n",
    "WT_recon_10 = np.real(np.fft.ifft2(np.fft.ifftshift(WT_fft_10)))\n",
    "\n",
    "plt.figure()\n",
    "plt.subplot(1, 2, 1)\n",
    "plt.imshow(WT, cmap='viridis')\n",
    "plt.title(\"Original WT\")\n",
    "plt.colorbar()\n",
    "plt.subplot(1, 2, 2)\n",
    "plt.imshow(WT_recon_10, cmap='viridis')\n",
    "plt.title(\"10% Fourier Coefficients\")\n",
    "plt.colorbar()\n",
    "plt.show()"
   ]
  }
 ],
 "metadata": {
  "kernelspec": {
   "display_name": "MLGeo",
   "language": "python",
   "name": "python3"
  },
  "language_info": {
   "codemirror_mode": {
    "name": "ipython",
    "version": 3
   },
   "file_extension": ".py",
   "mimetype": "text/x-python",
   "name": "python",
   "nbconvert_exporter": "python",
   "pygments_lexer": "ipython3",
   "version": "3.12.0"
  },
  "orig_nbformat": 4
 },
 "nbformat": 4,
 "nbformat_minor": 2
}
