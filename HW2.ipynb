{
 "cells": [
  {
   "cell_type": "markdown",
   "metadata": {},
   "source": [
    "# Homework 2\n",
    "\n",
    "This homework focuses on **resampling** and **noise**.\n",
    "\n",
    "This homework will explore linear regression and resampling techniques by analysing data from a database of glaciers. The database is *Glatilda* for [*Glacier Ice Thickness Database*](https://www.gtn-g.ch/data_catalogue_glathida/).\n",
    "\n",
    "1. Data Statistics\n",
    "2. Data prep (5 points)\n",
    "2. Mapping (10 points)\n",
    "3. Correlations between parameters (5 points)\n",
    "4. Linear regression and resampling techniques (10 points)\n",
    "\n",
    "## 1. Data Prep (5 points total)\n",
    "\n",
    "### a) Download data (1 point) \n",
    "The database is saved on a GitLab repository that you may clone: https://gitlab.com/wgms/glathida.git\n",
    "\n"
   ]
  },
  {
   "cell_type": "code",
   "execution_count": 8,
   "metadata": {},
   "outputs": [
    {
     "name": "stderr",
     "output_type": "stream",
     "text": [
      "fatal: destination path 'glathida' already exists and is not an empty directory.\n",
      "'ls' is not recognized as an internal or external command,\n",
      "operable program or batch file.\n"
     ]
    }
   ],
   "source": [
    "!git clone https://gitlab.com/wgms/glathida.git\n",
    "!ls glathida/data\n",
    "\n"
   ]
  },
  {
   "cell_type": "markdown",
   "metadata": {},
   "source": [
    "### b) Import Python modules (1 point) \n",
    "Import pandas, geopandas, plotting, raster files,  numpy, netcdf"
   ]
  },
  {
   "cell_type": "code",
   "execution_count": 9,
   "metadata": {},
   "outputs": [],
   "source": [
    "# solution\n",
    "import pandas as pd\n",
    "import geopandas as gpd\n",
    "import matplotlib.pyplot as plt\n",
    "import rasterio\n",
    "import numpy as np\n",
    "import xarray as xr"
   ]
  },
  {
   "cell_type": "markdown",
   "metadata": {},
   "source": [
    "### c) Read data (2 points)\n",
    "Read the glacier data from the file ``glathida/data/glacier.csv`` into a pandas data frame, and decribe briefly the dataframe content and its first few lines."
   ]
  },
  {
   "cell_type": "code",
   "execution_count": 10,
   "metadata": {},
   "outputs": [
    {
     "data": {
      "text/html": [
       "<div>\n",
       "<style scoped>\n",
       "    .dataframe tbody tr th:only-of-type {\n",
       "        vertical-align: middle;\n",
       "    }\n",
       "\n",
       "    .dataframe tbody tr th {\n",
       "        vertical-align: top;\n",
       "    }\n",
       "\n",
       "    .dataframe thead th {\n",
       "        text-align: right;\n",
       "    }\n",
       "</style>\n",
       "<table border=\"1\" class=\"dataframe\">\n",
       "  <thead>\n",
       "    <tr style=\"text-align: right;\">\n",
       "      <th></th>\n",
       "      <th>id</th>\n",
       "      <th>survey_id</th>\n",
       "      <th>name</th>\n",
       "      <th>external_db</th>\n",
       "      <th>external_id</th>\n",
       "      <th>latitude</th>\n",
       "      <th>longitude</th>\n",
       "      <th>date</th>\n",
       "      <th>max_date</th>\n",
       "      <th>area</th>\n",
       "      <th>...</th>\n",
       "      <th>mean_thickness</th>\n",
       "      <th>mean_thickness_uncertainty</th>\n",
       "      <th>max_thickness</th>\n",
       "      <th>max_thickness_uncertainty</th>\n",
       "      <th>number_points</th>\n",
       "      <th>number_profiles</th>\n",
       "      <th>length_profiles</th>\n",
       "      <th>interpolation_method</th>\n",
       "      <th>flag</th>\n",
       "      <th>remarks</th>\n",
       "    </tr>\n",
       "  </thead>\n",
       "  <tbody>\n",
       "    <tr>\n",
       "      <th>0</th>\n",
       "      <td>1</td>\n",
       "      <td>1</td>\n",
       "      <td>Isfallsglaciären</td>\n",
       "      <td>WGI</td>\n",
       "      <td>SE4B000E0006</td>\n",
       "      <td>67.91500</td>\n",
       "      <td>18.56800</td>\n",
       "      <td>1979-03-01</td>\n",
       "      <td>1979-03-31</td>\n",
       "      <td>1.3</td>\n",
       "      <td>...</td>\n",
       "      <td>72.0</td>\n",
       "      <td>NaN</td>\n",
       "      <td>220.0</td>\n",
       "      <td>NaN</td>\n",
       "      <td>NaN</td>\n",
       "      <td>NaN</td>\n",
       "      <td>NaN</td>\n",
       "      <td>NaN</td>\n",
       "      <td>NaN</td>\n",
       "      <td>NaN</td>\n",
       "    </tr>\n",
       "    <tr>\n",
       "      <th>1</th>\n",
       "      <td>2</td>\n",
       "      <td>1</td>\n",
       "      <td>Rabots glaciär</td>\n",
       "      <td>WGI</td>\n",
       "      <td>SE4B000E1016</td>\n",
       "      <td>67.91000</td>\n",
       "      <td>18.49600</td>\n",
       "      <td>1979-03-01</td>\n",
       "      <td>1979-03-31</td>\n",
       "      <td>4.1</td>\n",
       "      <td>...</td>\n",
       "      <td>84.0</td>\n",
       "      <td>NaN</td>\n",
       "      <td>175.0</td>\n",
       "      <td>NaN</td>\n",
       "      <td>NaN</td>\n",
       "      <td>10.0</td>\n",
       "      <td>NaN</td>\n",
       "      <td>NaN</td>\n",
       "      <td>NaN</td>\n",
       "      <td>NaN</td>\n",
       "    </tr>\n",
       "    <tr>\n",
       "      <th>2</th>\n",
       "      <td>3</td>\n",
       "      <td>1</td>\n",
       "      <td>Storglaciären</td>\n",
       "      <td>WGI</td>\n",
       "      <td>SE4B000E0005</td>\n",
       "      <td>67.90000</td>\n",
       "      <td>18.57000</td>\n",
       "      <td>1979-03-01</td>\n",
       "      <td>1979-03-31</td>\n",
       "      <td>3.1</td>\n",
       "      <td>...</td>\n",
       "      <td>99.0</td>\n",
       "      <td>NaN</td>\n",
       "      <td>250.0</td>\n",
       "      <td>NaN</td>\n",
       "      <td>NaN</td>\n",
       "      <td>NaN</td>\n",
       "      <td>NaN</td>\n",
       "      <td>NaN</td>\n",
       "      <td>NaN</td>\n",
       "      <td>NaN</td>\n",
       "    </tr>\n",
       "    <tr>\n",
       "      <th>3</th>\n",
       "      <td>4</td>\n",
       "      <td>2</td>\n",
       "      <td>South Cascade Glacier</td>\n",
       "      <td>WGI</td>\n",
       "      <td>US2M00264006</td>\n",
       "      <td>48.35698</td>\n",
       "      <td>-121.05735</td>\n",
       "      <td>1975-01-01</td>\n",
       "      <td>1975-12-31</td>\n",
       "      <td>2.0</td>\n",
       "      <td>...</td>\n",
       "      <td>99.0</td>\n",
       "      <td>NaN</td>\n",
       "      <td>195.0</td>\n",
       "      <td>NaN</td>\n",
       "      <td>NaN</td>\n",
       "      <td>NaN</td>\n",
       "      <td>NaN</td>\n",
       "      <td>NaN</td>\n",
       "      <td>NaN</td>\n",
       "      <td>NaN</td>\n",
       "    </tr>\n",
       "    <tr>\n",
       "      <th>4</th>\n",
       "      <td>5</td>\n",
       "      <td>3</td>\n",
       "      <td>Athabasca Glacier</td>\n",
       "      <td>FOG</td>\n",
       "      <td>7</td>\n",
       "      <td>52.17540</td>\n",
       "      <td>-117.28400</td>\n",
       "      <td>NaN</td>\n",
       "      <td>NaN</td>\n",
       "      <td>3.8</td>\n",
       "      <td>...</td>\n",
       "      <td>150.0</td>\n",
       "      <td>NaN</td>\n",
       "      <td>NaN</td>\n",
       "      <td>NaN</td>\n",
       "      <td>NaN</td>\n",
       "      <td>NaN</td>\n",
       "      <td>NaN</td>\n",
       "      <td>NaN</td>\n",
       "      <td>NaN</td>\n",
       "      <td>NaN</td>\n",
       "    </tr>\n",
       "  </tbody>\n",
       "</table>\n",
       "<p>5 rows × 21 columns</p>\n",
       "</div>"
      ],
      "text/plain": [
       "   id  survey_id                   name external_db   external_id  latitude  \\\n",
       "0   1          1       Isfallsglaciären         WGI  SE4B000E0006  67.91500   \n",
       "1   2          1         Rabots glaciär         WGI  SE4B000E1016  67.91000   \n",
       "2   3          1          Storglaciären         WGI  SE4B000E0005  67.90000   \n",
       "3   4          2  South Cascade Glacier         WGI  US2M00264006  48.35698   \n",
       "4   5          3      Athabasca Glacier         FOG             7  52.17540   \n",
       "\n",
       "   longitude        date    max_date  area  ...  mean_thickness  \\\n",
       "0   18.56800  1979-03-01  1979-03-31   1.3  ...            72.0   \n",
       "1   18.49600  1979-03-01  1979-03-31   4.1  ...            84.0   \n",
       "2   18.57000  1979-03-01  1979-03-31   3.1  ...            99.0   \n",
       "3 -121.05735  1975-01-01  1975-12-31   2.0  ...            99.0   \n",
       "4 -117.28400         NaN         NaN   3.8  ...           150.0   \n",
       "\n",
       "   mean_thickness_uncertainty  max_thickness  max_thickness_uncertainty  \\\n",
       "0                         NaN          220.0                        NaN   \n",
       "1                         NaN          175.0                        NaN   \n",
       "2                         NaN          250.0                        NaN   \n",
       "3                         NaN          195.0                        NaN   \n",
       "4                         NaN            NaN                        NaN   \n",
       "\n",
       "   number_points  number_profiles  length_profiles  interpolation_method flag  \\\n",
       "0            NaN              NaN              NaN                   NaN  NaN   \n",
       "1            NaN             10.0              NaN                   NaN  NaN   \n",
       "2            NaN              NaN              NaN                   NaN  NaN   \n",
       "3            NaN              NaN              NaN                   NaN  NaN   \n",
       "4            NaN              NaN              NaN                   NaN  NaN   \n",
       "\n",
       "  remarks  \n",
       "0     NaN  \n",
       "1     NaN  \n",
       "2     NaN  \n",
       "3     NaN  \n",
       "4     NaN  \n",
       "\n",
       "[5 rows x 21 columns]"
      ]
     },
     "execution_count": 10,
     "metadata": {},
     "output_type": "execute_result"
    }
   ],
   "source": [
    "# solution\n",
    "t_path = \"glathida/data/glacier.csv\"\n",
    "df = pd.read_csv(t_path)\n",
    "df.head()\n"
   ]
  },
  {
   "cell_type": "markdown",
   "metadata": {},
   "source": [
    "**Explore the data with visualization**\n",
    "Before making any inference of models with the data, we will start by exploring basic correlations among parameters by plotting. In particular, we will focus on ``mean_thickness``, ``area``, ``mean_slope`` parameters.\n",
    "\n",
    "### d) Remove bad data (1 point)\n",
    "\n",
    "The database may contain Nans and other \"bad\" values (welcome to the data world!). First we will clean the data by removing nans. We are mostly interested in the thickness, area, and slope\n",
    "\n"
   ]
  },
  {
   "cell_type": "code",
   "execution_count": 11,
   "metadata": {},
   "outputs": [],
   "source": [
    "#answer below \n",
    "df = df.dropna(subset=['latitude', 'longitude','mean_thickness', 'area', 'mean_slope'])\n"
   ]
  },
  {
   "cell_type": "markdown",
   "metadata": {},
   "source": [
    "## 2. Mapping glaciers (10 points)\n",
    "\n",
    "Make a global map of the glaciers. Use either of the tools we learned in class:\n",
    "* Geopandas, DEMs from NetCDFfiles (see chapter 2.4)\n",
    "* Pandas and Plotly (see chapter 2.2). You may need to transform some of the series into log-spaced values for better visualization."
   ]
  },
  {
   "cell_type": "markdown",
   "metadata": {},
   "source": [
    "### Option 1: Tif and matplotlib\n",
    "\n",
    "You can use the ``elevation`` data from the DEM seen in class. Download the DEM file (https://www.dropbox.com/s/j5lxhd8uxrtsxko/HYP_50M_SR.tif?dl=1)"
   ]
  },
  {
   "cell_type": "code",
   "execution_count": 12,
   "metadata": {},
   "outputs": [],
   "source": [
    "import os\n",
    "url = \"https://www.dropbox.com/s/j5lxhd8uxrtsxko/HYP_50M_SR.tif?dl=1\"\n",
    "dem_path = \"HYP_50M_SR.tif\"\n",
    "if not os.path.exists(dem_path):\n",
    "    # Convert Dropbox link to direct download\n",
    "    url_direct = url.replace(\"?dl=1\", \"?raw=1\")\n",
    "    urllib.request.urlretrieve(url_direct, dem_path)"
   ]
  },
  {
   "cell_type": "markdown",
   "metadata": {},
   "source": [
    "\n",
    "___Tips___: when plotting a image in ``matplotlib`` you need to add information about the physical dimensions of the image. You can calculate the ``bounds``."
   ]
  },
  {
   "cell_type": "code",
   "execution_count": 13,
   "metadata": {},
   "outputs": [],
   "source": [
    "#bounds = (elevation.bounds.left, elevation.bounds.right, \\\n",
    "          #elevation.bounds.bottom, elevation.bounds.top)"
   ]
  },
  {
   "cell_type": "markdown",
   "metadata": {},
   "source": [
    "We will use ``matplotlib.pyplot`` to show the raster image in the background (tips: use ``imshow()``. The raster image in matplotlib can only import one frame and not three (R, G, B) frames. We will first stack the three images together. "
   ]
  },
  {
   "cell_type": "code",
   "execution_count": 14,
   "metadata": {},
   "outputs": [],
   "source": [
    "#red = elevation.read(1)\n",
    "#green = elevation.read(2)\n",
    "#blue = elevation.read(3)\n",
    "#pix = np.dstack((red, green, blue))"
   ]
  },
  {
   "cell_type": "markdown",
   "metadata": {},
   "source": [
    "## Option 2: Plotly\n",
    "\n",
    "You may use plotly. For improved visibility, transform some of the data into log-spaced. You may add these transformed Series into the Pandas, and use them as input to plotly."
   ]
  },
  {
   "cell_type": "code",
   "execution_count": 15,
   "metadata": {},
   "outputs": [],
   "source": [
    "\n",
    "import plotly.express as px\n",
    "import plotly.io as pio\n",
    "pio.renderers.default = 'vscode' # writes as standalone html, \n",
    "# pio.renderers.default = 'iframe' # writes files as standalone html, \n",
    "# pio.renderers.default = 'png' # writes files as standalone html, \n",
    "# try notebook, jupyterlab, png, vscode, iframe"
   ]
  },
  {
   "cell_type": "code",
   "execution_count": 16,
   "metadata": {},
   "outputs": [
    {
     "data": {
      "application/vnd.plotly.v1+json": {
       "config": {
        "plotlyServerURL": "https://plot.ly"
       },
       "data": [
        {
         "geo": "geo",
         "hovertemplate": "<b>%{hovertext}</b><br><br>log_area=%{marker.size}<br>latitude=%{lat}<br>longitude=%{lon}<br>log_thickness=%{marker.color}<extra></extra>",
         "hovertext": [
          "Easton Glacier",
          "Lemon Creek Glacier",
          "Praviy Aktru",
          "Maliy Aktru",
          "Leviy Aktru",
          "Vodopadniy",
          "Batysh Sook Glacier",
          "Sary-Tor Glacier",
          "Golubin Glacier",
          "Davidova Glacier",
          "Karabatkak Glacier",
          "Tuyuksu (central)",
          "Fedchenko Glacier",
          "Abramov Glacier",
          "31",
          "Kavrayskogo",
          "Krasovskogo",
          "214",
          "252",
          "Kaskabulakskii",
          "259",
          "Ajusaiskii",
          "183",
          "Khejerdala",
          "Korjunskii",
          "Mgg",
          "Ekspeditsiy",
          "Rodina",
          "Kartaygan",
          "Ashar",
          "Maliy Useksiy",
          "Denisov",
          "305",
          "59",
          "Karabulaksiy",
          "Juytas",
          "261",
          "Keregetas",
          "Bolshoy Koksaysk",
          "Kazanskii",
          "82",
          "93",
          "Panfilova",
          "Khorgosskiy",
          "Tishkan",
          "Majak Vostochniy",
          "125",
          "Majak Zapadniy",
          "Sagrir",
          "Shumskogo",
          "Muravlev",
          "Dokriani Glacier",
          "Sperry Glacier",
          "Pizolgletscher",
          "Schneeferner",
          "Südlicher Schneeferner",
          "Höllentalferner",
          "Blaueis",
          "Watzmanngletscher",
          "Findelengletscher",
          "Glaciar Charquini Sur",
          "Glaciar La Conejeras",
          "Glaciar Zongo",
          "Blauschnee",
          "Vadret dal Corvatsch",
          "Gurschenfirn",
          "Vadret dal Murtèl",
          "Muttgletscher",
          "Glacier de Plan Névé",
          "Sardonagletscher",
          "Schwarzwasserfirn",
          "Glatschiu dil Segnas",
          "Glacier du Sex Rouge",
          "Sankt Annafirn",
          "Glacier de Tortin",
          "Glacier de Tsanfleuron",
          "Glacier de Tsarmine",
          "Storbreen",
          "Hellstugubreen",
          "Vestre Memurubreen",
          "Gråsubreen",
          "Langfjordjøkelen",
          "Rundvassbreen",
          "Hardangerjøkulen",
          "Marukh",
          "Elfenbeinbreen",
          "Sveigbreen",
          "Urumqi Glacier No. 1",
          "West Washmawapta Glacier",
          "Muz Taw",
          "Sigonghe 4",
          "Urumqi Glacier No. 1",
          "Urumqi Glacier No. 1 (east branch)",
          "Urumqi Glacier No. 1 (west branch)",
          "Sary-Tor Glacier",
          "Aqqutikitsoq",
          "Shiyi",
          "Haxilegen 51",
          "Heigou 8",
          "Shenqi Peak",
          "Qiyi",
          "Ålfotbreen",
          "Ålfotbreen",
          "Hansebreen",
          "Ålfotbreen (south)",
          "Blekumbreen",
          "Tuyuksu (central)",
          "Aldegondabreen",
          "Ariebreen",
          "Austre Lovenbreen"
         ],
         "lat": {
          "bdata": "AAAAAABgSEBxPQrXozBNQOT3Nv3ZB0lA0csollsGSUAniLoPQApJQJF++zpwBklAOBWpMLbkREAJceXsnelEQNFXkGYsOkVAi/1l9+TpRECgppat9RFFQGZmZmZmhkVAGQRWDi1iQ0CDL0ymCs5DQB4bgXhdS09A0ZFc/kOeRkB8J2a9GJ5GQFD8GHPXdkZAGy/dJAZxRkAbL90kBnFGQEw3iUFgdUZABJDaxMltRkAP7s7abWtGQFyPwvUofEZA4Ep2bARyRkBcj8L1KHxGQIrlllZDekZAWRe30QB6RkAW9rTDX39GQAAAAAAAgEZA+8vuycNKRkCX/5B++0pGQNJvXwfOWUZAI9v5fmpcRkCneccpOlpGQEjhehSuV0ZA9P3UeOlWRkAhH/RsVlVGQK36XG3FXkZAM4rlllZjRkBIUPwYc2NGQNEi2/l+SkZANIC3QIJKRkDtnjws1EpGQAKaCBueTkZAGsBbIEFJRkCYTBWMSkpGQCMVxhaCSEZA7FG4HoVLRkAK16NwPYpGQHh6pSxDjEZAexSuR+HaPkBO0ZFc/k9IQIlBYOXQekdAPujZrPq0R0AzMzMzM7NHQAN4CyQotkdADAIrhxbJR0AeFmpN88ZHQB6n6Egu/0ZAr5RliGNNMMBjRQ2mYTgTQGq8dJMYRDDAR8mrcwygR0Dj4T0HljVHQNqs+lxtTUdAAkpDjUI0R0BkBFQ4gkZHQL7BFyZTFUdAQbeXNEZ1R0D4wmSqYExHQMh+FkuRdEdAYOXQItspR0AXZqGd00xHQB7cnbXbCkdA8BZIUPwoR0AZOKClKwZHQE9Y4gFlyU5AmQ8IdCbHTkAqrFRQUcVOQA0zNJ4I1E5A1XjpJjGIUUBvEoPAytFQQNnO91PjRU5AfewuUFKuRUBWn6ut2ItTQLRZ9bnahlNA5wDBHD2ORUAtsp3vp5ZJQJ3y6EZYiEdAXynLEMfqRUDnAMEcPY5FQOcAwRw9jkVAEaj+QSSPRUAJceXsnelEQLx0kxgExlBACKwcWmQbQ0AhsHJokd1FQDEIrBxa5EVApHA9CtfjREB1kxgEVp5DQAAAAAAA4E5AAAAAAADgTkAAAAAAAOBOQD0K16Nw3U5AnfS+8bWPU0Cnr+drloVFQGfV52orflNA4JwRpb1BU0A5tMh2vrdTQA==",
          "dtype": "f8"
         },
         "legendgroup": "",
         "lon": {
          "bdata": "hetRuB51XsDsUbgehctgwNF5jV2i7FVA5KCEmbbvVUAZBFYOLexVQApoImx48lVA7ncoCvRvU0AZWMfxQ4tTQMAhVKnZn1JACf63kh2NU0BTliGOdZFTQIXrUbgeRVNAJzEIrBwSUkAc0xOWeORRQIhodAexm2FA2SWqtwYyVEAvbqMBvDNUQC3saYe/yFNACtejcD3SU0A/NV66SdRTQD81XrpJ1FNA5bM8D+7cU0BkHvmDgd1TQHsUrkfh2lNAjPM3oRDfU0BSuB6F6+FTQH5S7dPx4lNAPGagMv7jU0DVJk7ud/BTQBSuR+F69FNAfPKwUGveU0AdWmQ7399TQLUV+8vu5VNAtvP91HjpU0B90LNZ9e1TQC0hH/Rs7lNAMzMzMzPvU0BPHhZqTe9TQC/dJAaB/VNAFakwthD8U0Dpmsk32/RTQMP1KFyPElRAWvW52ooRVEBd3EYDeA9UQDcawFsgCVRAXrpJDAILVEBVMCqpEwxUQJKumXyzB1RAswxxrIsHVEAfhetRuA5UQOV+h6JAD1RAMQisHFq0U0AYsrrVc3BcwEi/fR04xyJAi2zn+6nxJUBtxf6ye/IlQCSX/5B++yVAXW3F/rK7KUBeS8gHPdspQCVdM/lmex9A1xLyQc8GUcCyne+nxtdSwLbz/dR4CVHA5Ga4AZ+vIkBPrFPle6YjQH506spnOSFAM6mhDcCmI0B/bf30n9UgQB3J5T+kvxtAJh5QNuWCIkBG09nJ4DghQLw7MlabfyJACrq9pDHaHECSeHk6VzQhQDOjHw2nPB1AZk6XxcTmHEBMUpliDhIeQA7d7A+UQyBAsHWpEfrhIEC+Mm/VdeggQGo0uRgDMyFAXI/C9Si8NUC28/3UeAkwQO58PzVeuh1AlGdeDru1RED35GGh1jQyQBgmUwWjsjFAP5EnSdezVUCF61G4HhVdwGL4iJgSZFVAcM6I0t4UVkA/kSdJ17NVQD+RJ0nXs1VAD+7O2m2zVUAZWMfxQ4tTQCUGgZVDm0rAqvHSTWL4WEAbL90kBhlVQBBYObTIFlZA8KfGSzf5U0C4HoXrUXBYQK5H4XoUrhZAj8L1KFyPFkCuR+F6FK4WQKRwPQrXoxZAOIQqNXsQMEDlXmBWKEVTQKVOQBNhIyxA8fRKWYb4LkAYJlMFo1IoQA==",
          "dtype": "f8"
         },
         "marker": {
          "color": {
           "bdata": "7vBA62hV/D8uZVo2mjf9P5C2jzsQGPw/aVn/VkUI/z9veHjJO1j/P58BNAKU+Ps/oIeUsYC0+D/+vuOE4rf7P/6+44Tit/s/ZkaA6KKt/D/+vuOE4rf7P5A+lEtlKwBAtx94WM/2AUAAKz1L0lwAQI4rDeYQL/4/gCHYK/su+z+AIdgr+y77P0N6U0uilvs/boKgCJVL+j9DelNLopb7P35vMzZd5vo//9fD9Kea+j+AIdgr+y77P+/mKIyG2Ps/lzqb3fRR/T+QnyMqy0b5P/+8T6gJovk/7rrkRdVL+D/u8EDraFX8P0/PC+y/dPs/FnPfGjVS+z9+bzM2Xeb6P35vMzZd5vo/f/WT5Umi9z9/WMckGBX4P+/mKIyG2Ps/gCHYK/su+z/P8OMXu6P2Pz/MeAsLC/s/fm8zNl3m+j//18P0p5r6P1gMAnL2zfk/gCHYK/su+z/1MLzRryL6Px8jDC6PJ/c//9O7uU5z/D+AYOawWhf5Pz/MeAsLC/s/F1xzCfCA+D8eUeRQGcr8P2ZGgOiirfw/5mdYFJ7c9z9+4Luw3eb2P/95n1ATRPM/fslPn5gV9D/+p3dzneboP08SvEO20vE/AUOwV/Zd5j8/zHgLCwvrP//qJ8uTRP8/f/mbIKPJ9T9/+Zsgo8n1P26ZDBraHP0//dVPlieJ7j9+yU+fmBX0P/95n1ATRPM//pALYlgV9j9+4Luw3eb2P4DeJ9QE0fQ/n0TkWYpW8j/91U+WJ4nuP4DeJ9QE0fQ/f/WT5Umi9z+XfUs166/zP8/w4xe7o/Y/IGa8hYWF/T//eZ9QE0TzP294eMk7WP8/UyADE8Ge/T86E6jbfOIAQPAbXwS2kPw/lzqb3fRR/T9AQybbqI8CQHKTd3uvYgFAv6qg3w/c/z91D+SltPP+P4A4RD1AAP4/fwwA945z+j9TIAMTwZ79P/6QC2JYFfY/6mNrcftl9z+euviu6cD6P38MAPeOc/o/gCHYK/su+z9Pzwvsv3T7PxZz3xo1Uvs/l31LNeuv8z//eZ9QE0TzP+7wQOtoVfw/f/WT5Umi9z8fOng/1Pj5P26ZDBraHP0/akKTRQA3/D91D+SltPP+P/7uLwbta/0/7rrkRdVL+D9+bzM2Xeb6P26ZDBraHP0/HyMMLo8n9z+OKw3mEC/+Pw==",
           "dtype": "f8"
          },
          "coloraxis": "coloraxis",
          "size": {
           "bdata": "nQ+gUgDq4j/WVysXLqnxP7BG3AZ3Puk/+xVWZdey4j8SMe4divHqPwFJZeveG88/m6PJbEWp1T+B8xu5CT3lP91WMBdYjeo/jaWsNiRz8T8CB6SnpuLmP8o0eETjQeI/937KzuVUB0Ae3NDa5O/1Pz108H6o8eM/PXTwfqjx4z/cBEERKpfkP/95n1ATRNM//dVPlieJ3j8gP0dUlo3iP7qP4tFA6tU//rCOSTAq4D88w49f7I7aPzyiyKEylOk/23XJi6qX4D/91U+WJ4nePwIMwV7Zd9k/fG5BrT2f1D8CDMFe2XfZP/iB78J2m9s//E/v5jrN4T//eZ9QE0TTP/95n1ATRNM//3mfUBNE0z8CDMFe2XfZP5mfYVF4ct8/fG5BrT2f1D/4ge/CdpvbPyA/R1SWjeI//N5mbLrM5T+dD6BSAOriP/klP31iVtA/np4X2H/p5j9ADyljAWnhP5mfYVF4ct8/+kMuiGFV2D+oj63F7ZfdP0EE71cZ19E/AgzBXtl32T9q+nxYQ6DiP/95n1ATRNM/+A3DH1t48D//eZ9QE0TTP281Koa/QKE/i0v7pTzEvT8lTeyqW++hP6Cnxo2UYbY/tsG5bhJnpj8qDb7AJWWlP0z0yx+ZYPI/ObMvD/n+vT+tRfME9G6zPyGnMRrPcN0/8yhKKS4thz878cWUWKC2P3DSdzKETKw/T8LemTZMvT9vDZq3ElzBPzCMN1AYhMk/EbUMuqdUwj8TSJYIaUaZP4AgSLAp4cE/D31cL5ZQvT90Ov7NoeO1P3gA5/4UJss/bhUOguAI5D97caYcLb25P4VZbrLrtek/nQ+gUgDq4j/8m7YUxG7vP5mfYVF4ct8/PXTwfqjx4z/diqHAFlPxPyvwmcwHv/0/OqzgVvBn4j/9bd7xOcz5P8CjkE3Pifc/fhqL2oBz2j//eZ9QE0TTPzflgJzIiOM/ID9HVJaN4j9Gef+0D4HbP/sZMtlGfdQ/+M/7hJogyj+tM4RbZffgPx2ayiMYvOI/a+uJzxPjxz9NPnbnHH/WP8jCjaB3Mus/bG+hdmEQ2j+OqXEt9yXjP+kguxkFCPE/AUOwV/Zd5j/8T+/mOs3hP+6VJZDJNOQ/mZ9hUXhy3z9CBO9XGdfhP4IBdMwvb+w/pExQPg+AwT89A2gEKPHnPw==",
           "dtype": "f8"
          },
          "sizemode": "area",
          "sizeref": 0.007291134871374813,
          "symbol": "circle"
         },
         "mode": "markers",
         "name": "",
         "showlegend": false,
         "type": "scattergeo"
        }
       ],
       "layout": {
        "coloraxis": {
         "colorbar": {
          "title": {
           "text": "log_thickness"
          }
         },
         "colorscale": [
          [
           0,
           "#440154"
          ],
          [
           0.1111111111111111,
           "#482878"
          ],
          [
           0.2222222222222222,
           "#3e4989"
          ],
          [
           0.3333333333333333,
           "#31688e"
          ],
          [
           0.4444444444444444,
           "#26828e"
          ],
          [
           0.5555555555555556,
           "#1f9e89"
          ],
          [
           0.6666666666666666,
           "#35b779"
          ],
          [
           0.7777777777777778,
           "#6ece58"
          ],
          [
           0.8888888888888888,
           "#b5de2b"
          ],
          [
           1,
           "#fde725"
          ]
         ]
        },
        "geo": {
         "center": {},
         "domain": {
          "x": [
           0,
           1
          ],
          "y": [
           0,
           1
          ]
         },
         "landcolor": "rgb(240, 240, 240)",
         "oceancolor": "LightBlue",
         "projection": {
          "type": "natural earth"
         },
         "showcoastlines": true,
         "showland": true,
         "showocean": true
        },
        "legend": {
         "itemsizing": "constant",
         "tracegroupgap": 0
        },
        "template": {
         "data": {
          "bar": [
           {
            "error_x": {
             "color": "#2a3f5f"
            },
            "error_y": {
             "color": "#2a3f5f"
            },
            "marker": {
             "line": {
              "color": "#E5ECF6",
              "width": 0.5
             },
             "pattern": {
              "fillmode": "overlay",
              "size": 10,
              "solidity": 0.2
             }
            },
            "type": "bar"
           }
          ],
          "barpolar": [
           {
            "marker": {
             "line": {
              "color": "#E5ECF6",
              "width": 0.5
             },
             "pattern": {
              "fillmode": "overlay",
              "size": 10,
              "solidity": 0.2
             }
            },
            "type": "barpolar"
           }
          ],
          "carpet": [
           {
            "aaxis": {
             "endlinecolor": "#2a3f5f",
             "gridcolor": "white",
             "linecolor": "white",
             "minorgridcolor": "white",
             "startlinecolor": "#2a3f5f"
            },
            "baxis": {
             "endlinecolor": "#2a3f5f",
             "gridcolor": "white",
             "linecolor": "white",
             "minorgridcolor": "white",
             "startlinecolor": "#2a3f5f"
            },
            "type": "carpet"
           }
          ],
          "choropleth": [
           {
            "colorbar": {
             "outlinewidth": 0,
             "ticks": ""
            },
            "type": "choropleth"
           }
          ],
          "contour": [
           {
            "colorbar": {
             "outlinewidth": 0,
             "ticks": ""
            },
            "colorscale": [
             [
              0,
              "#0d0887"
             ],
             [
              0.1111111111111111,
              "#46039f"
             ],
             [
              0.2222222222222222,
              "#7201a8"
             ],
             [
              0.3333333333333333,
              "#9c179e"
             ],
             [
              0.4444444444444444,
              "#bd3786"
             ],
             [
              0.5555555555555556,
              "#d8576b"
             ],
             [
              0.6666666666666666,
              "#ed7953"
             ],
             [
              0.7777777777777778,
              "#fb9f3a"
             ],
             [
              0.8888888888888888,
              "#fdca26"
             ],
             [
              1,
              "#f0f921"
             ]
            ],
            "type": "contour"
           }
          ],
          "contourcarpet": [
           {
            "colorbar": {
             "outlinewidth": 0,
             "ticks": ""
            },
            "type": "contourcarpet"
           }
          ],
          "heatmap": [
           {
            "colorbar": {
             "outlinewidth": 0,
             "ticks": ""
            },
            "colorscale": [
             [
              0,
              "#0d0887"
             ],
             [
              0.1111111111111111,
              "#46039f"
             ],
             [
              0.2222222222222222,
              "#7201a8"
             ],
             [
              0.3333333333333333,
              "#9c179e"
             ],
             [
              0.4444444444444444,
              "#bd3786"
             ],
             [
              0.5555555555555556,
              "#d8576b"
             ],
             [
              0.6666666666666666,
              "#ed7953"
             ],
             [
              0.7777777777777778,
              "#fb9f3a"
             ],
             [
              0.8888888888888888,
              "#fdca26"
             ],
             [
              1,
              "#f0f921"
             ]
            ],
            "type": "heatmap"
           }
          ],
          "histogram": [
           {
            "marker": {
             "pattern": {
              "fillmode": "overlay",
              "size": 10,
              "solidity": 0.2
             }
            },
            "type": "histogram"
           }
          ],
          "histogram2d": [
           {
            "colorbar": {
             "outlinewidth": 0,
             "ticks": ""
            },
            "colorscale": [
             [
              0,
              "#0d0887"
             ],
             [
              0.1111111111111111,
              "#46039f"
             ],
             [
              0.2222222222222222,
              "#7201a8"
             ],
             [
              0.3333333333333333,
              "#9c179e"
             ],
             [
              0.4444444444444444,
              "#bd3786"
             ],
             [
              0.5555555555555556,
              "#d8576b"
             ],
             [
              0.6666666666666666,
              "#ed7953"
             ],
             [
              0.7777777777777778,
              "#fb9f3a"
             ],
             [
              0.8888888888888888,
              "#fdca26"
             ],
             [
              1,
              "#f0f921"
             ]
            ],
            "type": "histogram2d"
           }
          ],
          "histogram2dcontour": [
           {
            "colorbar": {
             "outlinewidth": 0,
             "ticks": ""
            },
            "colorscale": [
             [
              0,
              "#0d0887"
             ],
             [
              0.1111111111111111,
              "#46039f"
             ],
             [
              0.2222222222222222,
              "#7201a8"
             ],
             [
              0.3333333333333333,
              "#9c179e"
             ],
             [
              0.4444444444444444,
              "#bd3786"
             ],
             [
              0.5555555555555556,
              "#d8576b"
             ],
             [
              0.6666666666666666,
              "#ed7953"
             ],
             [
              0.7777777777777778,
              "#fb9f3a"
             ],
             [
              0.8888888888888888,
              "#fdca26"
             ],
             [
              1,
              "#f0f921"
             ]
            ],
            "type": "histogram2dcontour"
           }
          ],
          "mesh3d": [
           {
            "colorbar": {
             "outlinewidth": 0,
             "ticks": ""
            },
            "type": "mesh3d"
           }
          ],
          "parcoords": [
           {
            "line": {
             "colorbar": {
              "outlinewidth": 0,
              "ticks": ""
             }
            },
            "type": "parcoords"
           }
          ],
          "pie": [
           {
            "automargin": true,
            "type": "pie"
           }
          ],
          "scatter": [
           {
            "fillpattern": {
             "fillmode": "overlay",
             "size": 10,
             "solidity": 0.2
            },
            "type": "scatter"
           }
          ],
          "scatter3d": [
           {
            "line": {
             "colorbar": {
              "outlinewidth": 0,
              "ticks": ""
             }
            },
            "marker": {
             "colorbar": {
              "outlinewidth": 0,
              "ticks": ""
             }
            },
            "type": "scatter3d"
           }
          ],
          "scattercarpet": [
           {
            "marker": {
             "colorbar": {
              "outlinewidth": 0,
              "ticks": ""
             }
            },
            "type": "scattercarpet"
           }
          ],
          "scattergeo": [
           {
            "marker": {
             "colorbar": {
              "outlinewidth": 0,
              "ticks": ""
             }
            },
            "type": "scattergeo"
           }
          ],
          "scattergl": [
           {
            "marker": {
             "colorbar": {
              "outlinewidth": 0,
              "ticks": ""
             }
            },
            "type": "scattergl"
           }
          ],
          "scattermap": [
           {
            "marker": {
             "colorbar": {
              "outlinewidth": 0,
              "ticks": ""
             }
            },
            "type": "scattermap"
           }
          ],
          "scattermapbox": [
           {
            "marker": {
             "colorbar": {
              "outlinewidth": 0,
              "ticks": ""
             }
            },
            "type": "scattermapbox"
           }
          ],
          "scatterpolar": [
           {
            "marker": {
             "colorbar": {
              "outlinewidth": 0,
              "ticks": ""
             }
            },
            "type": "scatterpolar"
           }
          ],
          "scatterpolargl": [
           {
            "marker": {
             "colorbar": {
              "outlinewidth": 0,
              "ticks": ""
             }
            },
            "type": "scatterpolargl"
           }
          ],
          "scatterternary": [
           {
            "marker": {
             "colorbar": {
              "outlinewidth": 0,
              "ticks": ""
             }
            },
            "type": "scatterternary"
           }
          ],
          "surface": [
           {
            "colorbar": {
             "outlinewidth": 0,
             "ticks": ""
            },
            "colorscale": [
             [
              0,
              "#0d0887"
             ],
             [
              0.1111111111111111,
              "#46039f"
             ],
             [
              0.2222222222222222,
              "#7201a8"
             ],
             [
              0.3333333333333333,
              "#9c179e"
             ],
             [
              0.4444444444444444,
              "#bd3786"
             ],
             [
              0.5555555555555556,
              "#d8576b"
             ],
             [
              0.6666666666666666,
              "#ed7953"
             ],
             [
              0.7777777777777778,
              "#fb9f3a"
             ],
             [
              0.8888888888888888,
              "#fdca26"
             ],
             [
              1,
              "#f0f921"
             ]
            ],
            "type": "surface"
           }
          ],
          "table": [
           {
            "cells": {
             "fill": {
              "color": "#EBF0F8"
             },
             "line": {
              "color": "white"
             }
            },
            "header": {
             "fill": {
              "color": "#C8D4E3"
             },
             "line": {
              "color": "white"
             }
            },
            "type": "table"
           }
          ]
         },
         "layout": {
          "annotationdefaults": {
           "arrowcolor": "#2a3f5f",
           "arrowhead": 0,
           "arrowwidth": 1
          },
          "autotypenumbers": "strict",
          "coloraxis": {
           "colorbar": {
            "outlinewidth": 0,
            "ticks": ""
           }
          },
          "colorscale": {
           "diverging": [
            [
             0,
             "#8e0152"
            ],
            [
             0.1,
             "#c51b7d"
            ],
            [
             0.2,
             "#de77ae"
            ],
            [
             0.3,
             "#f1b6da"
            ],
            [
             0.4,
             "#fde0ef"
            ],
            [
             0.5,
             "#f7f7f7"
            ],
            [
             0.6,
             "#e6f5d0"
            ],
            [
             0.7,
             "#b8e186"
            ],
            [
             0.8,
             "#7fbc41"
            ],
            [
             0.9,
             "#4d9221"
            ],
            [
             1,
             "#276419"
            ]
           ],
           "sequential": [
            [
             0,
             "#0d0887"
            ],
            [
             0.1111111111111111,
             "#46039f"
            ],
            [
             0.2222222222222222,
             "#7201a8"
            ],
            [
             0.3333333333333333,
             "#9c179e"
            ],
            [
             0.4444444444444444,
             "#bd3786"
            ],
            [
             0.5555555555555556,
             "#d8576b"
            ],
            [
             0.6666666666666666,
             "#ed7953"
            ],
            [
             0.7777777777777778,
             "#fb9f3a"
            ],
            [
             0.8888888888888888,
             "#fdca26"
            ],
            [
             1,
             "#f0f921"
            ]
           ],
           "sequentialminus": [
            [
             0,
             "#0d0887"
            ],
            [
             0.1111111111111111,
             "#46039f"
            ],
            [
             0.2222222222222222,
             "#7201a8"
            ],
            [
             0.3333333333333333,
             "#9c179e"
            ],
            [
             0.4444444444444444,
             "#bd3786"
            ],
            [
             0.5555555555555556,
             "#d8576b"
            ],
            [
             0.6666666666666666,
             "#ed7953"
            ],
            [
             0.7777777777777778,
             "#fb9f3a"
            ],
            [
             0.8888888888888888,
             "#fdca26"
            ],
            [
             1,
             "#f0f921"
            ]
           ]
          },
          "colorway": [
           "#636efa",
           "#EF553B",
           "#00cc96",
           "#ab63fa",
           "#FFA15A",
           "#19d3f3",
           "#FF6692",
           "#B6E880",
           "#FF97FF",
           "#FECB52"
          ],
          "font": {
           "color": "#2a3f5f"
          },
          "geo": {
           "bgcolor": "white",
           "lakecolor": "white",
           "landcolor": "#E5ECF6",
           "showlakes": true,
           "showland": true,
           "subunitcolor": "white"
          },
          "hoverlabel": {
           "align": "left"
          },
          "hovermode": "closest",
          "mapbox": {
           "style": "light"
          },
          "paper_bgcolor": "white",
          "plot_bgcolor": "#E5ECF6",
          "polar": {
           "angularaxis": {
            "gridcolor": "white",
            "linecolor": "white",
            "ticks": ""
           },
           "bgcolor": "#E5ECF6",
           "radialaxis": {
            "gridcolor": "white",
            "linecolor": "white",
            "ticks": ""
           }
          },
          "scene": {
           "xaxis": {
            "backgroundcolor": "#E5ECF6",
            "gridcolor": "white",
            "gridwidth": 2,
            "linecolor": "white",
            "showbackground": true,
            "ticks": "",
            "zerolinecolor": "white"
           },
           "yaxis": {
            "backgroundcolor": "#E5ECF6",
            "gridcolor": "white",
            "gridwidth": 2,
            "linecolor": "white",
            "showbackground": true,
            "ticks": "",
            "zerolinecolor": "white"
           },
           "zaxis": {
            "backgroundcolor": "#E5ECF6",
            "gridcolor": "white",
            "gridwidth": 2,
            "linecolor": "white",
            "showbackground": true,
            "ticks": "",
            "zerolinecolor": "white"
           }
          },
          "shapedefaults": {
           "line": {
            "color": "#2a3f5f"
           }
          },
          "ternary": {
           "aaxis": {
            "gridcolor": "white",
            "linecolor": "white",
            "ticks": ""
           },
           "baxis": {
            "gridcolor": "white",
            "linecolor": "white",
            "ticks": ""
           },
           "bgcolor": "#E5ECF6",
           "caxis": {
            "gridcolor": "white",
            "linecolor": "white",
            "ticks": ""
           }
          },
          "title": {
           "x": 0.05
          },
          "xaxis": {
           "automargin": true,
           "gridcolor": "white",
           "linecolor": "white",
           "ticks": "",
           "title": {
            "standoff": 15
           },
           "zerolinecolor": "white",
           "zerolinewidth": 2
          },
          "yaxis": {
           "automargin": true,
           "gridcolor": "white",
           "linecolor": "white",
           "ticks": "",
           "title": {
            "standoff": 15
           },
           "zerolinecolor": "white",
           "zerolinewidth": 2
          }
         }
        },
        "title": {
         "text": "Global Glacier Thickness (log-scaled)"
        }
       }
      }
     },
     "metadata": {},
     "output_type": "display_data"
    }
   ],
   "source": [
    "# solution\n",
    "# Create log-transformed columns for visualization\n",
    "df['log_thickness'] = np.log10(df['mean_thickness'] + 1)\n",
    "df['log_area'] = np.log10(df['area'] + 1)\n",
    "df['log_slope'] = np.log10(df['mean_slope'] + 1)\n",
    "\n",
    "# Plot glacier points with color by log thickness\n",
    "fig = px.scatter_geo(df,\n",
    "                     lat='latitude',\n",
    "                     lon='longitude',\n",
    "                     color='log_thickness',\n",
    "                     size='log_area',\n",
    "                     hover_name='name',\n",
    "                     title='Global Glacier Thickness (log-scaled)',\n",
    "                     projection=\"natural earth\",\n",
    "                     color_continuous_scale='Viridis')\n",
    "\n",
    "fig.update_layout(geo=dict(\n",
    "    showland=True,\n",
    "    landcolor='rgb(240, 240, 240)',\n",
    "    showocean=True,\n",
    "    oceancolor='LightBlue',\n",
    "    showcoastlines=True\n",
    "))\n",
    "\n",
    "fig.show()"
   ]
  },
  {
   "cell_type": "markdown",
   "metadata": {},
   "source": [
    "## 3. Correlations between data parameters ( 5 points total)\n",
    "\n",
    "Make plots to vizualise the correlation, or lack of, between all three data. Make at least three plots.\n",
    "\n",
    "### a) Basic correlations using Matplotlib (2 points)\n",
    "\n",
    "Make 3 plots using matplotlib to visualize slope, mean_thickness, and area. Use logscale to see the correlatons.\n",
    "\n",
    "__Tips__: \n",
    "* Use the function ``scatter`` to plot the values of mean thickness, mean slope, area, and latitude. \n",
    "* use one of the dataframe columns as a color using the argument ``c``. You can also vary the ``colormap`` using the argument ``cmap``. Help on colormaps can be found here: https://matplotlib.org/stable/tutorials/colors/colormaps.html. Be mindful of Color-Vision Deficient readers and read *Crameri, F., Shephard, G.E. and Heron, P.J., 2020. The misuse of colour in science communication. Nature communications, 11(1), pp.1-10. https://doi.org/10.1038/s41467-020-19160-7* (find it on the class Gdrive). You can add a third \"data\" by choosing a marker color that scales with an other parameter. For instance, try coloring your marker with the ``LAT`` parameter to look at systematic latitudinal trends from the equator to the poles.\n",
    "* Do not forget to adjust fontsize, figure size (at least 10,8), grid, labels with  of the features (example: km). ou may also explore the *logarithmic* correlations by mapping the axis from linear to logarithmic scale ``plt.xscale('log')``."
   ]
  },
  {
   "cell_type": "code",
   "execution_count": 17,
   "metadata": {},
   "outputs": [
    {
     "data": {
      "image/png": "[encoded data removed]",
      "text/plain": [
       "<Figure size 1000x800 with 2 Axes>"
      ]
     },
     "metadata": {},
     "output_type": "display_data"
    }
   ],
   "source": [
    "# Figure 1: Mean slope vs mean thickness\n",
    "df['log_thickness'] = np.log10(df['mean_thickness'] + 1)\n",
    "df['log_slope'] = np.log10(df['mean_slope'] + 1)\n",
    "\n",
    "plt.figure(figsize=(10, 8))\n",
    "sc1 = plt.scatter(df['mean_slope'], df['mean_thickness'], c=df['latitude'], cmap='cividis', alpha=0.7)\n",
    "plt.xlabel('Mean Slope (°)', fontsize=12)\n",
    "plt.ylabel('Mean Thickness (m)', fontsize=12)\n",
    "plt.title('Figure 1: Mean Slope vs Mean Thickness', fontsize=14)\n",
    "plt.colorbar(sc1, label='Latitude (°)')\n",
    "plt.grid(True)\n",
    "plt.tight_layout()\n",
    "plt.show()"
   ]
  },
  {
   "cell_type": "code",
   "execution_count": 18,
   "metadata": {},
   "outputs": [
    {
     "data": {
      "image/png": "[encoded data removed]",
      "text/plain": [
       "<Figure size 1000x800 with 2 Axes>"
      ]
     },
     "metadata": {},
     "output_type": "display_data"
    }
   ],
   "source": [
    "# Figure 2: area vs mean thickness\n",
    "df['log_area'] = np.log10(df['area'] + 1)\n",
    "\n",
    "plt.figure(figsize=(10, 8))\n",
    "sc2 = plt.scatter(df['area'], df['mean_thickness'], c=df['latitude'], cmap='plasma', alpha=0.7)\n",
    "plt.xlabel('Area (km²)', fontsize=12)\n",
    "plt.ylabel('Mean Thickness (m)', fontsize=12)\n",
    "plt.title('Figure 2: Glacier Area vs Mean Thickness', fontsize=14)\n",
    "plt.xscale('log')\n",
    "plt.colorbar(sc2, label='Latitude (°)')\n",
    "plt.grid(True)\n",
    "plt.tight_layout()\n",
    "plt.show()"
   ]
  },
  {
   "cell_type": "markdown",
   "metadata": {},
   "source": [
    "### b) 3D Scatter plot using Plotly (1 point)\n",
    "\n",
    "Use the plotly ``scatter_3d`` plot. Make sure to change the pandas series for log scales."
   ]
  },
  {
   "cell_type": "code",
   "execution_count": 19,
   "metadata": {},
   "outputs": [
    {
     "data": {
      "application/vnd.plotly.v1+json": {
       "config": {
        "plotlyServerURL": "https://plot.ly"
       },
       "data": [
        {
         "hovertemplate": "log_area=%{x}<br>log_thickness=%{y}<br>log_slope=%{z}<br>latitude=%{marker.color}<extra></extra>",
         "legendgroup": "",
         "marker": {
          "color": {
           "bdata": "AAAAAABgSEBxPQrXozBNQOT3Nv3ZB0lA0csollsGSUAniLoPQApJQJF++zpwBklAOBWpMLbkREAJceXsnelEQNFXkGYsOkVAi/1l9+TpRECgppat9RFFQGZmZmZmhkVAGQRWDi1iQ0CDL0ymCs5DQB4bgXhdS09A0ZFc/kOeRkB8J2a9GJ5GQFD8GHPXdkZAGy/dJAZxRkAbL90kBnFGQEw3iUFgdUZABJDaxMltRkAP7s7abWtGQFyPwvUofEZA4Ep2bARyRkBcj8L1KHxGQIrlllZDekZAWRe30QB6RkAW9rTDX39GQAAAAAAAgEZA+8vuycNKRkCX/5B++0pGQNJvXwfOWUZAI9v5fmpcRkCneccpOlpGQEjhehSuV0ZA9P3UeOlWRkAhH/RsVlVGQK36XG3FXkZAM4rlllZjRkBIUPwYc2NGQNEi2/l+SkZANIC3QIJKRkDtnjws1EpGQAKaCBueTkZAGsBbIEFJRkCYTBWMSkpGQCMVxhaCSEZA7FG4HoVLRkAK16NwPYpGQHh6pSxDjEZAexSuR+HaPkBO0ZFc/k9IQIlBYOXQekdAPujZrPq0R0AzMzMzM7NHQAN4CyQotkdADAIrhxbJR0AeFmpN88ZHQB6n6Egu/0ZAr5RliGNNMMBjRQ2mYTgTQGq8dJMYRDDAR8mrcwygR0Dj4T0HljVHQNqs+lxtTUdAAkpDjUI0R0BkBFQ4gkZHQL7BFyZTFUdAQbeXNEZ1R0D4wmSqYExHQMh+FkuRdEdAYOXQItspR0AXZqGd00xHQB7cnbXbCkdA8BZIUPwoR0AZOKClKwZHQE9Y4gFlyU5AmQ8IdCbHTkAqrFRQUcVOQA0zNJ4I1E5A1XjpJjGIUUBvEoPAytFQQNnO91PjRU5AfewuUFKuRUBWn6ut2ItTQLRZ9bnahlNA5wDBHD2ORUAtsp3vp5ZJQJ3y6EZYiEdAXynLEMfqRUDnAMEcPY5FQOcAwRw9jkVAEaj+QSSPRUAJceXsnelEQLx0kxgExlBACKwcWmQbQ0AhsHJokd1FQDEIrBxa5EVApHA9CtfjREB1kxgEVp5DQAAAAAAA4E5AAAAAAADgTkAAAAAAAOBOQD0K16Nw3U5AnfS+8bWPU0Cnr+drloVFQGfV52orflNA4JwRpb1BU0A5tMh2vrdTQA==",
           "dtype": "f8"
          },
          "coloraxis": "coloraxis",
          "size": 3,
          "symbol": "circle"
         },
         "mode": "markers",
         "name": "",
         "scene": "scene",
         "showlegend": false,
         "type": "scatter3d",
         "x": {
          "bdata": "nQ+gUgDq4j/WVysXLqnxP7BG3AZ3Puk/+xVWZdey4j8SMe4divHqPwFJZeveG88/m6PJbEWp1T+B8xu5CT3lP91WMBdYjeo/jaWsNiRz8T8CB6SnpuLmP8o0eETjQeI/937KzuVUB0Ae3NDa5O/1Pz108H6o8eM/PXTwfqjx4z/cBEERKpfkP/95n1ATRNM//dVPlieJ3j8gP0dUlo3iP7qP4tFA6tU//rCOSTAq4D88w49f7I7aPzyiyKEylOk/23XJi6qX4D/91U+WJ4nePwIMwV7Zd9k/fG5BrT2f1D8CDMFe2XfZP/iB78J2m9s//E/v5jrN4T//eZ9QE0TTP/95n1ATRNM//3mfUBNE0z8CDMFe2XfZP5mfYVF4ct8/fG5BrT2f1D/4ge/CdpvbPyA/R1SWjeI//N5mbLrM5T+dD6BSAOriP/klP31iVtA/np4X2H/p5j9ADyljAWnhP5mfYVF4ct8/+kMuiGFV2D+oj63F7ZfdP0EE71cZ19E/AgzBXtl32T9q+nxYQ6DiP/95n1ATRNM/+A3DH1t48D//eZ9QE0TTP281Koa/QKE/i0v7pTzEvT8lTeyqW++hP6Cnxo2UYbY/tsG5bhJnpj8qDb7AJWWlP0z0yx+ZYPI/ObMvD/n+vT+tRfME9G6zPyGnMRrPcN0/8yhKKS4thz878cWUWKC2P3DSdzKETKw/T8LemTZMvT9vDZq3ElzBPzCMN1AYhMk/EbUMuqdUwj8TSJYIaUaZP4AgSLAp4cE/D31cL5ZQvT90Ov7NoeO1P3gA5/4UJss/bhUOguAI5D97caYcLb25P4VZbrLrtek/nQ+gUgDq4j/8m7YUxG7vP5mfYVF4ct8/PXTwfqjx4z/diqHAFlPxPyvwmcwHv/0/OqzgVvBn4j/9bd7xOcz5P8CjkE3Pifc/fhqL2oBz2j//eZ9QE0TTPzflgJzIiOM/ID9HVJaN4j9Gef+0D4HbP/sZMtlGfdQ/+M/7hJogyj+tM4RbZffgPx2ayiMYvOI/a+uJzxPjxz9NPnbnHH/WP8jCjaB3Mus/bG+hdmEQ2j+OqXEt9yXjP+kguxkFCPE/AUOwV/Zd5j/8T+/mOs3hP+6VJZDJNOQ/mZ9hUXhy3z9CBO9XGdfhP4IBdMwvb+w/pExQPg+AwT89A2gEKPHnPw==",
          "dtype": "f8"
         },
         "y": {
          "bdata": "7vBA62hV/D8uZVo2mjf9P5C2jzsQGPw/aVn/VkUI/z9veHjJO1j/P58BNAKU+Ps/oIeUsYC0+D/+vuOE4rf7P/6+44Tit/s/ZkaA6KKt/D/+vuOE4rf7P5A+lEtlKwBAtx94WM/2AUAAKz1L0lwAQI4rDeYQL/4/gCHYK/su+z+AIdgr+y77P0N6U0uilvs/boKgCJVL+j9DelNLopb7P35vMzZd5vo//9fD9Kea+j+AIdgr+y77P+/mKIyG2Ps/lzqb3fRR/T+QnyMqy0b5P/+8T6gJovk/7rrkRdVL+D/u8EDraFX8P0/PC+y/dPs/FnPfGjVS+z9+bzM2Xeb6P35vMzZd5vo/f/WT5Umi9z9/WMckGBX4P+/mKIyG2Ps/gCHYK/su+z/P8OMXu6P2Pz/MeAsLC/s/fm8zNl3m+j//18P0p5r6P1gMAnL2zfk/gCHYK/su+z/1MLzRryL6Px8jDC6PJ/c//9O7uU5z/D+AYOawWhf5Pz/MeAsLC/s/F1xzCfCA+D8eUeRQGcr8P2ZGgOiirfw/5mdYFJ7c9z9+4Luw3eb2P/95n1ATRPM/fslPn5gV9D/+p3dzneboP08SvEO20vE/AUOwV/Zd5j8/zHgLCwvrP//qJ8uTRP8/f/mbIKPJ9T9/+Zsgo8n1P26ZDBraHP0//dVPlieJ7j9+yU+fmBX0P/95n1ATRPM//pALYlgV9j9+4Luw3eb2P4DeJ9QE0fQ/n0TkWYpW8j/91U+WJ4nuP4DeJ9QE0fQ/f/WT5Umi9z+XfUs166/zP8/w4xe7o/Y/IGa8hYWF/T//eZ9QE0TzP294eMk7WP8/UyADE8Ge/T86E6jbfOIAQPAbXwS2kPw/lzqb3fRR/T9AQybbqI8CQHKTd3uvYgFAv6qg3w/c/z91D+SltPP+P4A4RD1AAP4/fwwA945z+j9TIAMTwZ79P/6QC2JYFfY/6mNrcftl9z+euviu6cD6P38MAPeOc/o/gCHYK/su+z9Pzwvsv3T7PxZz3xo1Uvs/l31LNeuv8z//eZ9QE0TzP+7wQOtoVfw/f/WT5Umi9z8fOng/1Pj5P26ZDBraHP0/akKTRQA3/D91D+SltPP+P/7uLwbta/0/7rrkRdVL+D9+bzM2Xeb6P26ZDBraHP0/HyMMLo8n9z+OKw3mEC/+Pw==",
          "dtype": "f8"
         },
         "z": {
          "bdata": "AAAAAAAAAAAAAAAAAAAAAAAAAAAAAAAAAAAAAAAAAAAAAAAAAAAAAAAAAAAAAAAAAAAAAAAAAAAAAAAAAAAAAAAAAAAAAAAAAAAAAAAAAAAAAAAAAAAAAAAAAAAAAAAAAAAAAAAAAAAAAAAAAAAAAAAAAAAAAAAAAAAAAAAAAAAAAAAAAAAAAAAAAAAAAAAAAAAAAAAAAAAAAAAAAAAAAAAAAAAAAAAAAAAAAAAAAAAAAAAAAAAAAAAAAAAAAAAAAAAAAAAAAAAAAAAAAAAAAAAAAAAAAAAAAAAAAAAAAAAAAAAAAAAAAAAAAAAAAAAAAAAAAAAAAAAAAAAAAAAAAAAAAAAAAAAAAAAAAAAAAAD/eZ9QE0TTPwAAAAAAAAAAAAAAAAAAAAAAAAAAAAAAAAAAAAAAAAAAAAAAAAAAAAAAAAAAAAAAAAAAAAAAAAAAAAAAAAAAAAAAAAAAAAAAAAAAAAAAAAAAAAAAAAAAAAAAAAAAAAAAAAAAAAAAAAAAAAAAAAAAAAAAAAAAAAAAAAAAAAAAAAAATxK8Q7bS8T9vxVBgi6nwP3/5myCjyfU/EMH7VcZ19D9/+Zsgo8n1P37gu7Dd5vY/F1xzCfCA+D9/+Zsgo8n1P59E5FmKVvI/7qN4NJB69T9+4Luw3eb2P+6jeDSQevU/P8x4CwsL+z9/+Zsgo8n1Px8jDC6PJ/c//3mfUBNE8z9+yU+fmBX0P/95n1ATRPM/n1tQa88n9T8fIwwujyf3P37JT5+YFfQ//3mfUBNE8z9/+Zsgo8n1P5d9SzXrr/M/b8VQYIup8D/mZ1gUntz3PwAXbBFF0fI/n0TkWYpW8j/+Nu/4HObsP08SvEO20vE/n0TkWYpW8j/+p3dzneboPz/MeAsLC+s/n0TkWYpW8j//eZ9QE0TjP/95n1ATROM/n1tQa88n9T+XfUs166/zP37JT5+YFfQ/n1tQa88n9T+fW1Brzyf1PxDB+1XGdfQ//pALYlgV9j+XfUs166/zP08SvEO20vE/AUOwV/Zd9j+fW1Brzyf1P8/w4xe7o/Y/b8VQYIup8D/uo3g0kHr1PwAAAAAAAPA/b8VQYIup8D8AAAAAAADwPwAAAAAAAPA/n0TkWYpW8j+fW1Brzyf1Pz/MeAsLC+s/gN4n1ATR9D8AF2wRRdHyPw==",
          "dtype": "f8"
         }
        }
       ],
       "layout": {
        "coloraxis": {
         "colorbar": {
          "title": {
           "text": "latitude"
          }
         },
         "colorscale": [
          [
           0,
           "rgb(3, 35, 51)"
          ],
          [
           0.09090909090909091,
           "rgb(13, 48, 100)"
          ],
          [
           0.18181818181818182,
           "rgb(53, 50, 155)"
          ],
          [
           0.2727272727272727,
           "rgb(93, 62, 153)"
          ],
          [
           0.36363636363636365,
           "rgb(126, 77, 143)"
          ],
          [
           0.45454545454545453,
           "rgb(158, 89, 135)"
          ],
          [
           0.5454545454545454,
           "rgb(193, 100, 121)"
          ],
          [
           0.6363636363636364,
           "rgb(225, 113, 97)"
          ],
          [
           0.7272727272727273,
           "rgb(246, 139, 69)"
          ],
          [
           0.8181818181818182,
           "rgb(251, 173, 60)"
          ],
          [
           0.9090909090909091,
           "rgb(246, 211, 70)"
          ],
          [
           1,
           "rgb(231, 250, 90)"
          ]
         ]
        },
        "legend": {
         "tracegroupgap": 0
        },
        "scene": {
         "domain": {
          "x": [
           0,
           1
          ],
          "y": [
           0,
           1
          ]
         },
         "xaxis": {
          "title": {
           "text": "Area (km²)"
          },
          "type": "log"
         },
         "yaxis": {
          "title": {
           "text": "Thickness (m)"
          },
          "type": "log"
         },
         "zaxis": {
          "title": {
           "text": "Slope (°)"
          },
          "type": "log"
         }
        },
        "template": {
         "data": {
          "bar": [
           {
            "error_x": {
             "color": "#2a3f5f"
            },
            "error_y": {
             "color": "#2a3f5f"
            },
            "marker": {
             "line": {
              "color": "#E5ECF6",
              "width": 0.5
             },
             "pattern": {
              "fillmode": "overlay",
              "size": 10,
              "solidity": 0.2
             }
            },
            "type": "bar"
           }
          ],
          "barpolar": [
           {
            "marker": {
             "line": {
              "color": "#E5ECF6",
              "width": 0.5
             },
             "pattern": {
              "fillmode": "overlay",
              "size": 10,
              "solidity": 0.2
             }
            },
            "type": "barpolar"
           }
          ],
          "carpet": [
           {
            "aaxis": {
             "endlinecolor": "#2a3f5f",
             "gridcolor": "white",
             "linecolor": "white",
             "minorgridcolor": "white",
             "startlinecolor": "#2a3f5f"
            },
            "baxis": {
             "endlinecolor": "#2a3f5f",
             "gridcolor": "white",
             "linecolor": "white",
             "minorgridcolor": "white",
             "startlinecolor": "#2a3f5f"
            },
            "type": "carpet"
           }
          ],
          "choropleth": [
           {
            "colorbar": {
             "outlinewidth": 0,
             "ticks": ""
            },
            "type": "choropleth"
           }
          ],
          "contour": [
           {
            "colorbar": {
             "outlinewidth": 0,
             "ticks": ""
            },
            "colorscale": [
             [
              0,
              "#0d0887"
             ],
             [
              0.1111111111111111,
              "#46039f"
             ],
             [
              0.2222222222222222,
              "#7201a8"
             ],
             [
              0.3333333333333333,
              "#9c179e"
             ],
             [
              0.4444444444444444,
              "#bd3786"
             ],
             [
              0.5555555555555556,
              "#d8576b"
             ],
             [
              0.6666666666666666,
              "#ed7953"
             ],
             [
              0.7777777777777778,
              "#fb9f3a"
             ],
             [
              0.8888888888888888,
              "#fdca26"
             ],
             [
              1,
              "#f0f921"
             ]
            ],
            "type": "contour"
           }
          ],
          "contourcarpet": [
           {
            "colorbar": {
             "outlinewidth": 0,
             "ticks": ""
            },
            "type": "contourcarpet"
           }
          ],
          "heatmap": [
           {
            "colorbar": {
             "outlinewidth": 0,
             "ticks": ""
            },
            "colorscale": [
             [
              0,
              "#0d0887"
             ],
             [
              0.1111111111111111,
              "#46039f"
             ],
             [
              0.2222222222222222,
              "#7201a8"
             ],
             [
              0.3333333333333333,
              "#9c179e"
             ],
             [
              0.4444444444444444,
              "#bd3786"
             ],
             [
              0.5555555555555556,
              "#d8576b"
             ],
             [
              0.6666666666666666,
              "#ed7953"
             ],
             [
              0.7777777777777778,
              "#fb9f3a"
             ],
             [
              0.8888888888888888,
              "#fdca26"
             ],
             [
              1,
              "#f0f921"
             ]
            ],
            "type": "heatmap"
           }
          ],
          "histogram": [
           {
            "marker": {
             "pattern": {
              "fillmode": "overlay",
              "size": 10,
              "solidity": 0.2
             }
            },
            "type": "histogram"
           }
          ],
          "histogram2d": [
           {
            "colorbar": {
             "outlinewidth": 0,
             "ticks": ""
            },
            "colorscale": [
             [
              0,
              "#0d0887"
             ],
             [
              0.1111111111111111,
              "#46039f"
             ],
             [
              0.2222222222222222,
              "#7201a8"
             ],
             [
              0.3333333333333333,
              "#9c179e"
             ],
             [
              0.4444444444444444,
              "#bd3786"
             ],
             [
              0.5555555555555556,
              "#d8576b"
             ],
             [
              0.6666666666666666,
              "#ed7953"
             ],
             [
              0.7777777777777778,
              "#fb9f3a"
             ],
             [
              0.8888888888888888,
              "#fdca26"
             ],
             [
              1,
              "#f0f921"
             ]
            ],
            "type": "histogram2d"
           }
          ],
          "histogram2dcontour": [
           {
            "colorbar": {
             "outlinewidth": 0,
             "ticks": ""
            },
            "colorscale": [
             [
              0,
              "#0d0887"
             ],
             [
              0.1111111111111111,
              "#46039f"
             ],
             [
              0.2222222222222222,
              "#7201a8"
             ],
             [
              0.3333333333333333,
              "#9c179e"
             ],
             [
              0.4444444444444444,
              "#bd3786"
             ],
             [
              0.5555555555555556,
              "#d8576b"
             ],
             [
              0.6666666666666666,
              "#ed7953"
             ],
             [
              0.7777777777777778,
              "#fb9f3a"
             ],
             [
              0.8888888888888888,
              "#fdca26"
             ],
             [
              1,
              "#f0f921"
             ]
            ],
            "type": "histogram2dcontour"
           }
          ],
          "mesh3d": [
           {
            "colorbar": {
             "outlinewidth": 0,
             "ticks": ""
            },
            "type": "mesh3d"
           }
          ],
          "parcoords": [
           {
            "line": {
             "colorbar": {
              "outlinewidth": 0,
              "ticks": ""
             }
            },
            "type": "parcoords"
           }
          ],
          "pie": [
           {
            "automargin": true,
            "type": "pie"
           }
          ],
          "scatter": [
           {
            "fillpattern": {
             "fillmode": "overlay",
             "size": 10,
             "solidity": 0.2
            },
            "type": "scatter"
           }
          ],
          "scatter3d": [
           {
            "line": {
             "colorbar": {
              "outlinewidth": 0,
              "ticks": ""
             }
            },
            "marker": {
             "colorbar": {
              "outlinewidth": 0,
              "ticks": ""
             }
            },
            "type": "scatter3d"
           }
          ],
          "scattercarpet": [
           {
            "marker": {
             "colorbar": {
              "outlinewidth": 0,
              "ticks": ""
             }
            },
            "type": "scattercarpet"
           }
          ],
          "scattergeo": [
           {
            "marker": {
             "colorbar": {
              "outlinewidth": 0,
              "ticks": ""
             }
            },
            "type": "scattergeo"
           }
          ],
          "scattergl": [
           {
            "marker": {
             "colorbar": {
              "outlinewidth": 0,
              "ticks": ""
             }
            },
            "type": "scattergl"
           }
          ],
          "scattermap": [
           {
            "marker": {
             "colorbar": {
              "outlinewidth": 0,
              "ticks": ""
             }
            },
            "type": "scattermap"
           }
          ],
          "scattermapbox": [
           {
            "marker": {
             "colorbar": {
              "outlinewidth": 0,
              "ticks": ""
             }
            },
            "type": "scattermapbox"
           }
          ],
          "scatterpolar": [
           {
            "marker": {
             "colorbar": {
              "outlinewidth": 0,
              "ticks": ""
             }
            },
            "type": "scatterpolar"
           }
          ],
          "scatterpolargl": [
           {
            "marker": {
             "colorbar": {
              "outlinewidth": 0,
              "ticks": ""
             }
            },
            "type": "scatterpolargl"
           }
          ],
          "scatterternary": [
           {
            "marker": {
             "colorbar": {
              "outlinewidth": 0,
              "ticks": ""
             }
            },
            "type": "scatterternary"
           }
          ],
          "surface": [
           {
            "colorbar": {
             "outlinewidth": 0,
             "ticks": ""
            },
            "colorscale": [
             [
              0,
              "#0d0887"
             ],
             [
              0.1111111111111111,
              "#46039f"
             ],
             [
              0.2222222222222222,
              "#7201a8"
             ],
             [
              0.3333333333333333,
              "#9c179e"
             ],
             [
              0.4444444444444444,
              "#bd3786"
             ],
             [
              0.5555555555555556,
              "#d8576b"
             ],
             [
              0.6666666666666666,
              "#ed7953"
             ],
             [
              0.7777777777777778,
              "#fb9f3a"
             ],
             [
              0.8888888888888888,
              "#fdca26"
             ],
             [
              1,
              "#f0f921"
             ]
            ],
            "type": "surface"
           }
          ],
          "table": [
           {
            "cells": {
             "fill": {
              "color": "#EBF0F8"
             },
             "line": {
              "color": "white"
             }
            },
            "header": {
             "fill": {
              "color": "#C8D4E3"
             },
             "line": {
              "color": "white"
             }
            },
            "type": "table"
           }
          ]
         },
         "layout": {
          "annotationdefaults": {
           "arrowcolor": "#2a3f5f",
           "arrowhead": 0,
           "arrowwidth": 1
          },
          "autotypenumbers": "strict",
          "coloraxis": {
           "colorbar": {
            "outlinewidth": 0,
            "ticks": ""
           }
          },
          "colorscale": {
           "diverging": [
            [
             0,
             "#8e0152"
            ],
            [
             0.1,
             "#c51b7d"
            ],
            [
             0.2,
             "#de77ae"
            ],
            [
             0.3,
             "#f1b6da"
            ],
            [
             0.4,
             "#fde0ef"
            ],
            [
             0.5,
             "#f7f7f7"
            ],
            [
             0.6,
             "#e6f5d0"
            ],
            [
             0.7,
             "#b8e186"
            ],
            [
             0.8,
             "#7fbc41"
            ],
            [
             0.9,
             "#4d9221"
            ],
            [
             1,
             "#276419"
            ]
           ],
           "sequential": [
            [
             0,
             "#0d0887"
            ],
            [
             0.1111111111111111,
             "#46039f"
            ],
            [
             0.2222222222222222,
             "#7201a8"
            ],
            [
             0.3333333333333333,
             "#9c179e"
            ],
            [
             0.4444444444444444,
             "#bd3786"
            ],
            [
             0.5555555555555556,
             "#d8576b"
            ],
            [
             0.6666666666666666,
             "#ed7953"
            ],
            [
             0.7777777777777778,
             "#fb9f3a"
            ],
            [
             0.8888888888888888,
             "#fdca26"
            ],
            [
             1,
             "#f0f921"
            ]
           ],
           "sequentialminus": [
            [
             0,
             "#0d0887"
            ],
            [
             0.1111111111111111,
             "#46039f"
            ],
            [
             0.2222222222222222,
             "#7201a8"
            ],
            [
             0.3333333333333333,
             "#9c179e"
            ],
            [
             0.4444444444444444,
             "#bd3786"
            ],
            [
             0.5555555555555556,
             "#d8576b"
            ],
            [
             0.6666666666666666,
             "#ed7953"
            ],
            [
             0.7777777777777778,
             "#fb9f3a"
            ],
            [
             0.8888888888888888,
             "#fdca26"
            ],
            [
             1,
             "#f0f921"
            ]
           ]
          },
          "colorway": [
           "#636efa",
           "#EF553B",
           "#00cc96",
           "#ab63fa",
           "#FFA15A",
           "#19d3f3",
           "#FF6692",
           "#B6E880",
           "#FF97FF",
           "#FECB52"
          ],
          "font": {
           "color": "#2a3f5f"
          },
          "geo": {
           "bgcolor": "white",
           "lakecolor": "white",
           "landcolor": "#E5ECF6",
           "showlakes": true,
           "showland": true,
           "subunitcolor": "white"
          },
          "hoverlabel": {
           "align": "left"
          },
          "hovermode": "closest",
          "mapbox": {
           "style": "light"
          },
          "paper_bgcolor": "white",
          "plot_bgcolor": "#E5ECF6",
          "polar": {
           "angularaxis": {
            "gridcolor": "white",
            "linecolor": "white",
            "ticks": ""
           },
           "bgcolor": "#E5ECF6",
           "radialaxis": {
            "gridcolor": "white",
            "linecolor": "white",
            "ticks": ""
           }
          },
          "scene": {
           "xaxis": {
            "backgroundcolor": "#E5ECF6",
            "gridcolor": "white",
            "gridwidth": 2,
            "linecolor": "white",
            "showbackground": true,
            "ticks": "",
            "zerolinecolor": "white"
           },
           "yaxis": {
            "backgroundcolor": "#E5ECF6",
            "gridcolor": "white",
            "gridwidth": 2,
            "linecolor": "white",
            "showbackground": true,
            "ticks": "",
            "zerolinecolor": "white"
           },
           "zaxis": {
            "backgroundcolor": "#E5ECF6",
            "gridcolor": "white",
            "gridwidth": 2,
            "linecolor": "white",
            "showbackground": true,
            "ticks": "",
            "zerolinecolor": "white"
           }
          },
          "shapedefaults": {
           "line": {
            "color": "#2a3f5f"
           }
          },
          "ternary": {
           "aaxis": {
            "gridcolor": "white",
            "linecolor": "white",
            "ticks": ""
           },
           "baxis": {
            "gridcolor": "white",
            "linecolor": "white",
            "ticks": ""
           },
           "bgcolor": "#E5ECF6",
           "caxis": {
            "gridcolor": "white",
            "linecolor": "white",
            "ticks": ""
           }
          },
          "title": {
           "x": 0.05
          },
          "xaxis": {
           "automargin": true,
           "gridcolor": "white",
           "linecolor": "white",
           "ticks": "",
           "title": {
            "standoff": 15
           },
           "zerolinecolor": "white",
           "zerolinewidth": 2
          },
          "yaxis": {
           "automargin": true,
           "gridcolor": "white",
           "linecolor": "white",
           "ticks": "",
           "title": {
            "standoff": 15
           },
           "zerolinecolor": "white",
           "zerolinewidth": 2
          }
         }
        },
        "title": {
         "text": "Glacial Area vs Thickness vs Slope"
        }
       }
      }
     },
     "metadata": {},
     "output_type": "display_data"
    }
   ],
   "source": [
    "fig = px.scatter_3d(df,\n",
    "                    x='log_area',\n",
    "                    y='log_thickness',\n",
    "                    z='log_slope',\n",
    "                    color='latitude',\n",
    "                    color_continuous_scale='thermal',\n",
    "                    title='Glacial Area vs Thickness vs Slope')\n",
    "\n",
    "fig.update_traces(marker=dict(size=3))\n",
    "fig.update_layout(\n",
    "    scene=dict(\n",
    "        xaxis_title='Area (km²)',\n",
    "        yaxis_title='Thickness (m)',\n",
    "        zaxis_title='Slope (°)',\n",
    "        xaxis_type='log',\n",
    "        yaxis_type='log',\n",
    "        zaxis_type='log'\n",
    "    )\n",
    ")\n",
    "fig.show()"
   ]
  },
  {
   "cell_type": "markdown",
   "metadata": {},
   "source": [
    "### c) Pandas Correlation function (1 point)\n",
    "\n",
    "You may use Pandas functionalities to explore correlation between data. Use the function ``corr`` on the dataframe and the matplotlib function ``matshow`` to plot a heatmap of the correlations"
   ]
  },
  {
   "cell_type": "code",
   "execution_count": 20,
   "metadata": {},
   "outputs": [
    {
     "name": "stderr",
     "output_type": "stream",
     "text": [
      "C:\\Users\\nmaik\\AppData\\Local\\Temp\\ipykernel_34176\\74914232.py:10: UserWarning:\n",
      "\n",
      "This figure includes Axes that are not compatible with tight_layout, so results might be incorrect.\n",
      "\n"
     ]
    },
    {
     "data": {
      "image/png": "[encoded data removed]",
      "text/plain": [
       "<Figure size 800x600 with 2 Axes>"
      ]
     },
     "metadata": {},
     "output_type": "display_data"
    }
   ],
   "source": [
    "#solution\n",
    "corr_matrix = df[['mean_thickness', 'area', 'mean_slope', 'latitude']].corr()\n",
    "\n",
    "plt.figure(figsize=(8, 6))\n",
    "plt.matshow(corr_matrix, cmap='RdBu', fignum=1)\n",
    "plt.colorbar(label='Correlation Coefficient')\n",
    "plt.xticks(range(len(corr_matrix.columns)), corr_matrix.columns, rotation=45, ha='left')\n",
    "plt.yticks(range(len(corr_matrix.index)), corr_matrix.index)\n",
    "plt.title(\"Correlation Heatmap\", pad=20, fontsize=14)\n",
    "plt.tight_layout()\n",
    "plt.show()\n",
    "\n"
   ]
  },
  {
   "cell_type": "markdown",
   "metadata": {},
   "source": [
    "### f) Seaborn Plotting (1 point)\n",
    "\n",
    "Seaborn is a great python package for basic data anlytics. See documentation [here](!https://seaborn.pydata.org/). You can visualize the data by plotting data features against each other and explore visually data correlations."
   ]
  },
  {
   "cell_type": "code",
   "execution_count": 21,
   "metadata": {},
   "outputs": [],
   "source": [
    "#solution"
   ]
  },
  {
   "cell_type": "code",
   "execution_count": 22,
   "metadata": {},
   "outputs": [
    {
     "data": {
      "image/png": "[encoded data removed]",
      "text/plain": [
       "<Figure size 822.125x750 with 9 Axes>"
      ]
     },
     "metadata": {},
     "output_type": "display_data"
    }
   ],
   "source": [
    "# solution\n",
    "import seaborn as sns\n",
    "sns.set(style=\"whitegrid\")\n",
    "# rename labels in plair plot to remove \"log_\" from the labels\n",
    "df_ = df[['log_thickness', 'log_area', 'log_slope', 'latitude']].copy()\n",
    "df_.rename(columns={'log_thickness': 'Thickness (m)', 'log_area': 'Area (km²)', 'log_slope': 'Slope (°)'}, inplace=True)\n",
    "pairplot = sns.pairplot(df_,\n",
    "                        hue=\"latitude\",\n",
    "                        palette=\"Blues\",\n",
    "                        corner=True,\n",
    "                        )\n",
    "\n",
    "\n",
    "\n",
    "# Set axis labels\n",
    "for ax in pairplot.axes.flat:\n",
    "    if ax is not None:\n",
    "        ax.set_xscale(\"log\")\n",
    "        ax.set_yscale(\"log\")\n",
    "\n",
    "\n",
    "\n",
    "\n",
    "\n",
    "plt.show()"
   ]
  },
  {
   "cell_type": "markdown",
   "metadata": {},
   "source": [
    "Discuss the basic correlations among the data. Do these correction make sense when you think about the shapes of glaciers?"
   ]
  },
  {
   "cell_type": "markdown",
   "metadata": {},
   "source": [
    "enter text below\n",
    "\n"
   ]
  },
  {
   "cell_type": "markdown",
   "metadata": {},
   "source": [
    "## 4. Linear Regression (10 points total counted in the next section)\n",
    "You found from basic data visualization that the three parameters ``mean_slope``, ``mean_thickness``, and ``area`` are correlated. It does make physical sense because a *steep* glaciers is likely to be in the high mountains regions, hanging on the mountain walls, and thus be constrained, and conversely, a flat glacier is either at its valley, ocean terminus or on ice sheets.\n",
    "\n",
    "### a) Simple linear regression (2 points)\n",
    "We will now perform a regression between the parameters (or their log!). Linear regressions are models that can be imported from scikit-learn. Log/exp functions in numpy as ``np.log()`` and ``np.exp()``.\n",
    "Remember that a linear regression is finding $a$ and $b$ knowing both $x$ and the data $y$ in $y = Ax +b$. We want to predict ice thickness from a crude estimate of the glacier area.\n",
    "\n",
    "__Tips__: \n",
    "a. make sure that the dimensions are correct and that there is no NaNs and zeros.\n",
    "b. Make sure to inport the scikit learn linear regression function and the error metrics."
   ]
  },
  {
   "cell_type": "code",
   "execution_count": 23,
   "metadata": {},
   "outputs": [
    {
     "name": "stdout",
     "output_type": "stream",
     "text": [
      "Mean Squared Error: 0.036984764978212833\n",
      "R² Score: 0.5618807650308868\n"
     ]
    }
   ],
   "source": [
    "# solution\n",
    "from sklearn.linear_model import LinearRegression\n",
    "from sklearn.metrics import mean_squared_error, r2_score\n",
    "\n",
    "#perform linear regression on the log-transformed data\n",
    "X = df[['log_area', 'log_slope']].values\n",
    "y = df['log_thickness'].values\n",
    "model = LinearRegression() \n",
    "# find a and b in y = Ax + b\n",
    "model.fit(X, y)\n",
    "y_pred = model.predict(X)\n",
    "mse = mean_squared_error(y, y_pred)\n",
    "r2 = r2_score(y, y_pred)\n",
    "print(f\"Mean Squared Error: {mse}\")\n",
    "print(f\"R² Score: {r2}\")\n"
   ]
  },
  {
   "cell_type": "markdown",
   "metadata": {},
   "source": [
    "Make a plot of the data and the linear regression your performed"
   ]
  },
  {
   "cell_type": "code",
   "execution_count": 24,
   "metadata": {},
   "outputs": [
    {
     "data": {
      "image/png": "[encoded data removed]",
      "text/plain": [
       "<Figure size 1000x800 with 1 Axes>"
      ]
     },
     "metadata": {},
     "output_type": "display_data"
    }
   ],
   "source": [
    "# plot the data and the linear regression we performed\n",
    "plt.figure(figsize=(10, 8))\n",
    "plt.scatter(y, y_pred, alpha=0.7)\n",
    "plt.plot([y.min(), y.max()], [y.min(), y.max()], 'r--', lw=2)\n",
    "plt.xlabel('Observed Log Thickness', fontsize=12)\n",
    "plt.ylabel('Predicted Log Thickness', fontsize=12)\n",
    "plt.title('Linear Regression of Log-Transformed Thickness', fontsize=14)\n",
    "plt.grid(True)\n",
    "plt.tight_layout()\n",
    "plt.show()\n",
    "\n"
   ]
  },
  {
   "cell_type": "markdown",
   "metadata": {},
   "source": [
    "**Briefly comment on the quality of your fit and a linear regression (1 point)**"
   ]
  },
  {
   "cell_type": "markdown",
   "metadata": {},
   "source": [
    "The fit looks pretty good, except that there are outliers on the extreme low and high values of mean area."
   ]
  },
  {
   "cell_type": "markdown",
   "metadata": {},
   "source": [
    "### b) Leave One Out Cross Validation linear regression (1 point)\n",
    "\n",
    "\n",
    "Perform the LOCCV on the ``area`` and ``thickness`` values. Predict the ``thickness`` value knowing a ``area`` value. Use material seen in class. Make a plot of your fit."
   ]
  },
  {
   "cell_type": "code",
   "execution_count": 25,
   "metadata": {},
   "outputs": [
    {
     "name": "stdout",
     "output_type": "stream",
     "text": [
      "Mean Squared Error (Leave-One-Out): 0.041645513275501235\n"
     ]
    }
   ],
   "source": [
    "from sklearn.model_selection import LeaveOneOut\n",
    "# solution\n",
    "loo = LeaveOneOut()\n",
    "\n",
    "# perform leave-one-out cross-validation on area and thickness\n",
    "X = df[['log_area', 'log_slope']].values\n",
    "y = df['log_thickness'].values\n",
    "predictions = []\n",
    "for train_index, test_index in loo.split(X):\n",
    "    X_train, X_test = X[train_index], X[test_index]\n",
    "    y_train, y_test = y[train_index], y[test_index]\n",
    "    \n",
    "    model = LinearRegression()\n",
    "    model.fit(X_train, y_train)\n",
    "    predictions.append(model.predict(X_test)[0])\n",
    "# Calculate mean squared error\n",
    "mse = mean_squared_error(y, predictions)\n",
    "print(f\"Mean Squared Error (Leave-One-Out): {mse}\")\n"
   ]
  },
  {
   "cell_type": "markdown",
   "metadata": {},
   "source": [
    "### c) Bootstrapping (1 point)\n",
    "\n",
    "Perform the same analysis but using a bootstrapping technique. Output the mean and standard deviation of the slope. An illustration with a histogram  may help."
   ]
  },
  {
   "cell_type": "code",
   "execution_count": 32,
   "metadata": {},
   "outputs": [
    {
     "name": "stdout",
     "output_type": "stream",
     "text": [
      "(110, 2)\n",
      "(110,)\n",
      "X_resampled shape: (110, 2)\n",
      "y_resampled shape: (110,)\n",
      "X_test shape: (43,)\n",
      "y_test shape: (24,)\n",
      "Mean MSE (Bootstrap): nan\n",
      "Standard Deviation of MSE (Bootstrap): nan\n"
     ]
    }
   ],
   "source": [
    "from sklearn.utils import resample\n",
    "# solution\n",
    "\n",
    "k=100\n",
    "\n",
    "# Perform bootstrap resampling\n",
    "bootstrapped_mse = []\n",
    "for i in range(k):\n",
    "    # Generate bootstrap sample, create x_train and y_train, create x_test and y_test\n",
    "    # resample the data with replacement\n",
    "    X_resampled, y_resampled = resample(X, y, replace=True, n_samples=len(X), random_state=i) \n",
    "\n",
    "    # Create test set by removing the resampled data from the original data\n",
    "    # dont use isin because X is a numpy array\n",
    "    X_test = X[~np.isin(X, X_resampled)]\n",
    "    y_test = y[~np.isin(y, y_resampled)]\n",
    "    print(X.shape)\n",
    "    print(y.shape)\n",
    "    print(\"X_resampled shape:\", X_resampled.shape)\n",
    "    print(\"y_resampled shape:\", y_resampled.shape)\n",
    "    print(\"X_test shape:\", X_test.shape)\n",
    "    print(\"y_test shape:\", y_test.shape)\n",
    "    break\n",
    "    \n",
    "    # Fit model to bootstrap sample\n",
    "    model = LinearRegression()\n",
    "    model.fit(X_resampled, y_resampled)\n",
    "    \n",
    "    # Predict on the test set\n",
    "    y_pred = model.predict(X_test)\n",
    "    \n",
    "    # Calculate mean squared error\n",
    "    mse = mean_squared_error(y_test, y_pred)\n",
    "    # Append to list of bootstrapped MSE\n",
    "    bootstrapped_mse.append(mse)\n",
    "# Calculate mean and standard deviation of MSE\n",
    "mean_mse = np.mean(bootstrapped_mse)\n",
    "std_mse = np.std(bootstrapped_mse)\n",
    "print(f\"Mean MSE (Bootstrap): {mean_mse}\")\n",
    "print(f\"Standard Deviation of MSE (Bootstrap): {std_mse}\")\n"
   ]
  },
  {
   "cell_type": "markdown",
   "metadata": {},
   "source": [
    "### d) Predict the thickness of a glacier (2 points)\n",
    "\n",
    "Let assume that you measure a glacier of area 10 km$^2$. Can you use your bootstrap regression framework to provide a distribution of possible values of the ice thickness ? Output the mean and standard deviation of the predicted ice thickness."
   ]
  },
  {
   "cell_type": "code",
   "execution_count": 27,
   "metadata": {},
   "outputs": [
    {
     "name": "stdout",
     "output_type": "stream",
     "text": [
      "                            OLS Regression Results                            \n",
      "==============================================================================\n",
      "Dep. Variable:          log_thickness   R-squared:                       0.562\n",
      "Model:                            OLS   Adj. R-squared:                  0.554\n",
      "Method:                 Least Squares   F-statistic:                     68.61\n",
      "Date:                Wed, 16 Apr 2025   Prob (F-statistic):           6.69e-20\n",
      "Time:                        00:21:46   Log-Likelihood:                 25.265\n",
      "No. Observations:                 110   AIC:                            -44.53\n",
      "Df Residuals:                     107   BIC:                            -36.43\n",
      "Df Model:                           2                                         \n",
      "Covariance Type:            nonrobust                                         \n",
      "==============================================================================\n",
      "                 coef    std err          t      P>|t|      [0.025      0.975]\n",
      "------------------------------------------------------------------------------\n",
      "Intercept      1.4738      0.041     36.277      0.000       1.393       1.554\n",
      "log_area       0.4427      0.047      9.409      0.000       0.349       0.536\n",
      "log_slope     -0.1262      0.031     -4.048      0.000      -0.188      -0.064\n",
      "==============================================================================\n",
      "Omnibus:                        5.855   Durbin-Watson:                   1.546\n",
      "Prob(Omnibus):                  0.054   Jarque-Bera (JB):                5.864\n",
      "Skew:                          -0.374   Prob(JB):                       0.0533\n",
      "Kurtosis:                       3.848   Cond. No.                         4.38\n",
      "==============================================================================\n",
      "\n",
      "Notes:\n",
      "[1] Standard Errors assume that the covariance matrix of the errors is correctly specified.\n"
     ]
    }
   ],
   "source": [
    "# answer the above question\n",
    "# solution\n",
    "import statsmodels.api as sm\n",
    "import statsmodels.formula.api as smf\n",
    "# solution\n",
    "# Fit a linear regression model using statsmodels\n",
    "model = smf.ols('log_thickness ~ log_area + log_slope', data=df).fit()\n",
    "# Print the summary of the model\n",
    "print(model.summary())"
   ]
  }
 ],
 "metadata": {
  "kernelspec": {
   "display_name": "MLGeo",
   "language": "python",
   "name": "python3"
  },
  "language_info": {
   "codemirror_mode": {
    "name": "ipython",
    "version": 3
   },
   "file_extension": ".py",
   "mimetype": "text/x-python",
   "name": "python",
   "nbconvert_exporter": "python",
   "pygments_lexer": "ipython3",
   "version": "3.12.0"
  },
  "orig_nbformat": 4
 },
 "nbformat": 4,
 "nbformat_minor": 2
}
